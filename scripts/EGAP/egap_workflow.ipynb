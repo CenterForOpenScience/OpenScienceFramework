{
 "cells": [
  {
   "cell_type": "code",
   "execution_count": null,
   "metadata": {},
   "outputs": [],
   "source": [
    "from create_EGAP_json import create_file_tree_and_json\n",
    "\n",
    "author_source = '/Users/bgeiger/Desktop/EGAP/20190821_author_emails.csv'\n",
    "registry_source = '/Users/bgeiger/Desktop/EGAP/20191014_OSF_database.csv'\n",
    "target_directory= '/Users/bgeiger/Desktop/EGAP/output/'"
   ]
  },
  {
   "cell_type": "code",
   "execution_count": null,
   "metadata": {},
   "outputs": [],
   "source": [
    "create_file_tree_and_json(author_source, registry_source, target_directory)"
   ]
  }
 ],
 "metadata": {
  "kernelspec": {
   "display_name": "Python 3",
   "language": "python",
   "name": "python3"
  },
  "language_info": {
   "codemirror_mode": {
    "name": "ipython",
    "version": 3
   },
   "file_extension": ".py",
   "mimetype": "text/x-python",
   "name": "python",
   "nbconvert_exporter": "python",
   "pygments_lexer": "ipython3",
   "version": "3.6.1"
  }
 },
 "nbformat": 4,
 "nbformat_minor": 4
}
