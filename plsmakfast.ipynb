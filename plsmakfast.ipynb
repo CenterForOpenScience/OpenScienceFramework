{
 "cells": [
  {
   "cell_type": "code",
   "execution_count": 50,
   "metadata": {
    "collapsed": false,
    "deletable": true,
    "editable": true
   },
   "outputs": [],
   "source": [
    "from django.db import models\n",
    "from django.db.models.sql.query import Query\n",
    "from django.db.models.sql.datastructures import Join\n",
    "from django.db.models.query import ModelIterable\n",
    "from django.contrib.contenttypes.models import ContentType\n",
    "from django.contrib.contenttypes.fields import GenericRelation\n",
    "\n",
    "\n",
    "class IncludeModelIterable(ModelIterable):\n",
    "    \n",
    "    def __iter__(self):\n",
    "        print(self.queryset._includes)\n",
    "        for instance in super(IncludeModelIterable, self).__iter__():\n",
    "            for includer in self.queryset._includes.values():\n",
    "                includer.extract(instance)\n",
    "                \n",
    "            yield instance\n",
    "            \n",
    "            \n",
    "class AbstractIncluder(object):\n",
    "    def __init__(self, alias, field):\n",
    "        self.alias = alias\n",
    "        self.field = field\n",
    "        self.model = field.related_model\n",
    "        self.host_model = field.model\n",
    "        \n",
    "\n",
    "class ManyToOneIncluder(AbstractIncluder):\n",
    "    \n",
    "    def extract(self, instance):\n",
    "        data = getattr(instance, self.alias)\n",
    "        delattr(instance, self.alias)\n",
    "        setattr(instance, self.field.get_cache_name(), self.model.from_db(instance._state.db, None, data))\n",
    "        \n",
    "    def extra_query(self):\n",
    "        return {self.alias:'''\n",
    "        SELECT json_build_array({select})\n",
    "        FROM \"{table}\" AS \"{alias}\"\n",
    "        WHERE \"{alias}\".\"{join_column}\" = \"{host}\".\"{host_join_column}\"\n",
    "        '''.format(\n",
    "            alias=self.alias,\n",
    "            table=self.model._meta.db_table,\n",
    "            join_column=self.field.target_field.column,\n",
    "            host=self.host_model._meta.db_table,\n",
    "            host_join_column=self.field.column,\n",
    "            select=', '.join('\"{}\".\"{}\"'.format(self.alias, f.column) for f in self.model._meta.concrete_fields)\n",
    "        )}\n",
    "\n",
    "\n",
    "class OneToManyIncluder(AbstractIncluder):\n",
    "    \n",
    "    def extract(self, instance):\n",
    "        data = getattr(instance, self.alias)\n",
    "        delattr(instance, self.alias)\n",
    "        \n",
    "        if not hasattr(instance, '_prefetched_objects_cache'):\n",
    "            instance._prefetched_objects_cache = {}\n",
    "        instance._prefetched_objects_cache[self.field.name] = self.model.objects.none()\n",
    "        instance._prefetched_objects_cache[self.field.name]._result_cache = [\n",
    "            self.model.from_db(instance._state.db, None, datum)\n",
    "            for datum in data\n",
    "        ]\n",
    "    \n",
    "    def extra_query(self):\n",
    "        host_join_column, join_column = self.field.get_joining_columns()[0]\n",
    "        return {self.alias:'''\n",
    "        SELECT json_agg(json_build_array({select}))\n",
    "        FROM \"{table}\" AS \"{alias}\"\n",
    "        WHERE \"{alias}\".\"{join_column}\" = \"{host}\".\"{host_join_column}\"\n",
    "        '''.format(\n",
    "            alias=self.alias,\n",
    "            table=self.model._meta.db_table,\n",
    "            join_column=join_column,\n",
    "            host=self.host_model._meta.db_table,\n",
    "            host_join_column=host_join_column,\n",
    "            select=', '.join('\"{}\".\"{}\"'.format(self.alias, f.column) for f in self.model._meta.concrete_fields)\n",
    "        )}\n",
    "    \n",
    "    \n",
    "class OneToManyIncluder(AbstractIncluder):\n",
    "    \n",
    "    def extract(self, instance):\n",
    "        data = getattr(instance, self.alias)\n",
    "        delattr(instance, self.alias)\n",
    "        \n",
    "        if not hasattr(instance, '_prefetched_objects_cache'):\n",
    "            instance._prefetched_objects_cache = {}\n",
    "        instance._prefetched_objects_cache[self.field.name] = self.model.objects.none()\n",
    "        instance._prefetched_objects_cache[self.field.name]._result_cache = [\n",
    "            self.model.from_db(instance._state.db, None, datum)\n",
    "            for datum in data\n",
    "        ]\n",
    "    \n",
    "    def extra_query(self):\n",
    "        host_join_column, join_column = self.field.get_joining_columns()[0]\n",
    "        return {self.alias:'''\n",
    "        SELECT json_agg(json_build_array({select}))\n",
    "        FROM \"{table}\" AS \"{alias}\"\n",
    "        WHERE \"{alias}\".\"{join_column}\" = \"{host}\".\"{host_join_column}\"\n",
    "        '''.format(\n",
    "            alias=self.alias,\n",
    "            table=self.model._meta.db_table,\n",
    "            join_column=join_column,\n",
    "            host=self.host_model._meta.db_table,\n",
    "            host_join_column=host_join_column,\n",
    "            select=', '.join('\"{}\".\"{}\"'.format(self.alias, f.column) for f in self.model._meta.concrete_fields)\n",
    "        )}\n",
    "\n",
    "    \n",
    "class GenericRelationIncluder(OneToManyIncluder):\n",
    "    def extra_query(self):\n",
    "        join_column, host_join_column = self.field.get_joining_columns()[0]\n",
    "        return {self.alias:'''\n",
    "        SELECT json_agg(json_build_array({select}))\n",
    "        FROM \"{table}\" AS \"{alias}\"\n",
    "        WHERE \"{alias}\".\"{join_column}\" = \"{host}\".\"{host_join_column}\"\n",
    "        AND \"{alias}\".\"{content_type}\" = {content_type_id}\n",
    "        '''.format(\n",
    "            alias=self.alias,\n",
    "            table=self.model._meta.db_table,\n",
    "            join_column=join_column,\n",
    "            host=self.host_model._meta.db_table,\n",
    "            host_join_column=host_join_column,\n",
    "            select=', '.join('\"{}\".\"{}\"'.format(self.alias, f.column) for f in self.model._meta.concrete_fields),\n",
    "            content_type=self.model._meta.get_field(self.field.content_type_field_name).column,\n",
    "            content_type_id=ContentType.objects.get_for_model(self.host_model).pk\n",
    "        )}\n",
    "\n",
    "\n",
    "class IncludeQuerySet(models.QuerySet):\n",
    "\n",
    "    def __init__(self, *args, **kwargs):\n",
    "        super(IncludeQuerySet, self).__init__(*args, **kwargs)\n",
    "        self._includes = {}\n",
    "        self._iterable_class = IncludeModelIterable\n",
    "\n",
    "    def include(self, *related_names):\n",
    "        clone = self._clone()\n",
    "        for related_name in related_names:\n",
    "            field = self.model._meta.get_field(related_name)\n",
    "            if isinstance(field, GenericRelation):\n",
    "                clone._includes[field] = GenericRelationIncluder('__garbage__' + field.name, field)\n",
    "            elif field.many_to_one:\n",
    "                clone._includes[field] = ManyToOneIncluder('__garbage__' + field.name, field)\n",
    "            elif field.one_to_many:\n",
    "                clone._includes[field] = OneToManyIncluder('__garbage__' + field.name, field)\n",
    "        clone.__construct_extra()\n",
    "        return clone\n",
    "    \n",
    "    def __construct_extra(self):\n",
    "        for includer in self._includes.values():\n",
    "            self.query.add_extra(includer.extra_query(), None, None, None, None, None)\n",
    "            \n",
    "    def _clone(self):\n",
    "        clone = super(IncludeQuerySet, self)._clone()\n",
    "        clone._includes = self._includes\n",
    "        return clone\n",
    "        \n",
    "IncludeManager = IncludeQuerySet.as_manager()\n",
    "IncludeManager.contribute_to_class(AbstractNode, 'bobjects')"
   ]
  },
  {
   "cell_type": "code",
   "execution_count": 188,
   "metadata": {
    "collapsed": false,
    "deletable": true,
    "editable": true
   },
   "outputs": [],
   "source": [
    "from django.db import models\n",
    "from django.db.models.sql.query import Query\n",
    "from django.db.models.sql.datastructures import Join\n",
    "from django.db.models.query import ModelIterable\n",
    "from django.contrib.contenttypes.models import ContentType\n",
    "from django.contrib.contenttypes.fields import GenericRelation\n",
    "from django.db.models.expressions import Func\n",
    "from django.contrib.postgres.aggregates import ArrayAgg\n",
    "from django.contrib.postgres.fields import JSONField\n",
    "\n",
    "\n",
    "class JSONBuildArray(Func):\n",
    "    function = 'JSON_BUILD_ARRAY'\n",
    "\n",
    "    \n",
    "class JSONAgg(ArrayAgg):\n",
    "    function = 'JSON_AGG'\n",
    "    def __init__(self, *args):\n",
    "        super(JSONAgg, self).__init__(*args, output_field=JSONField())\n",
    "\n",
    "\n",
    "\n",
    "class IncludeModelIterable(ModelIterable):\n",
    "    \n",
    "    def __iter__(self):\n",
    "        print(self.queryset._includes)\n",
    "        for instance in super(IncludeModelIterable, self).__iter__():\n",
    "            for includer in self.queryset._includes.values():\n",
    "                includer.extract(instance)\n",
    "                \n",
    "            yield instance\n",
    "            \n",
    "            \n",
    "class IncludeQuerySet(models.QuerySet):\n",
    "\n",
    "    def __init__(self, *args, **kwargs):\n",
    "        super(IncludeQuerySet, self).__init__(*args, **kwargs)\n",
    "#         self._includes = {}\n",
    "#         self._iterable_class = IncludeModelIterable\n",
    "\n",
    "    def include(self, *related_names):\n",
    "        clone = self._clone()\n",
    "        for related_name in related_names:\n",
    "            clone._include(self.model._meta.get_field(related_name))\n",
    "        return clone\n",
    "\n",
    "    def _include(self, field):\n",
    "        model = field.related_model\n",
    "        column, host_column = field.get_joining_columns()[0]\n",
    "        qs = model.objects.all().extra(where=['\"{table}\".\"{column}\" = \"{host_table}\".\"{host_column}\"'.format(\n",
    "            table=model._meta.db_table,\n",
    "            column=column,\n",
    "            host_table=model._meta.db_table,\n",
    "            host_column=host_column,\n",
    "        )])\n",
    "        qs.query.add_annotation(\n",
    "            JSONAgg(JSONBuildArray(*[f.column for f in model._meta.concrete_fields])),\n",
    "            '__fields',\n",
    "            is_summary=True\n",
    "        )\n",
    "        qs = qs.values_list('__fields')\n",
    "        qs.query.order_by = []\n",
    "        qs.query.default_ordering = False\n",
    "        sql, params = qs.query.sql_with_params()\n",
    "        \n",
    "        self.query.add_extra({'__' + field.name: sql}, params, None, None, None, None)\n",
    "            \n",
    "#     def _clone(self):\n",
    "#         clone = super(IncludeQuerySet, self)._clone()\n",
    "#         clone._includes = self._includes\n",
    "#         return clone\n",
    "        \n",
    "IncludeManager = IncludeQuerySet.as_manager()\n",
    "IncludeManager.contribute_to_class(AbstractNode, 'bobjects')"
   ]
  },
  {
   "cell_type": "code",
   "execution_count": 189,
   "metadata": {
    "collapsed": false,
    "deletable": true,
    "editable": true
   },
   "outputs": [
    {
     "name": "stdout",
     "output_type": "stream",
     "text": [
      "SELECT (SELECT JSON_AGG(JSON_BUILD_ARRAY(\"osf_guid\".\"id\", \"osf_guid\".\"_id\", \"osf_guid\".\"content_type_id\", \"osf_guid\".\"object_id\", \"osf_guid\".\"created\")) AS \"__fields\" FROM \"osf_guid\" WHERE (\"osf_guid\".\"object_id\" = \"osf_guid\".\"id\")) AS \"__guids\", \"osf_abstractnode\".\"id\", \"osf_abstractnode\".\"guid_string\", \"osf_abstractnode\".\"content_type_pk\", \"osf_abstractnode\".\"type\", \"osf_abstractnode\".\"spam_status\", \"osf_abstractnode\".\"spam_pro_tip\", \"osf_abstractnode\".\"spam_data\", \"osf_abstractnode\".\"date_last_reported\", \"osf_abstractnode\".\"reports\", \"osf_abstractnode\".\"category\", \"osf_abstractnode\".\"child_node_subscriptions\", \"osf_abstractnode\".\"creator_id\", \"osf_abstractnode\".\"date_created\", \"osf_abstractnode\".\"date_modified\", \"osf_abstractnode\".\"deleted_date\", \"osf_abstractnode\".\"description\", \"osf_abstractnode\".\"file_guid_to_share_uuids\", \"osf_abstractnode\".\"forked_date\", \"osf_abstractnode\".\"forked_from_id\", \"osf_abstractnode\".\"is_fork\", \"osf_abstractnode\".\"is_public\", \"osf_abstractnode\".\"is_deleted\", \"osf_abstractnode\".\"node_license_id\", \"osf_abstractnode\".\"root_id\", \"osf_abstractnode\".\"piwik_site_id\", \"osf_abstractnode\".\"public_comments\", \"osf_abstractnode\".\"suspended\", \"osf_abstractnode\".\"template_node_id\", \"osf_abstractnode\".\"title\", \"osf_abstractnode\".\"wiki_pages_current\", \"osf_abstractnode\".\"wiki_pages_versions\", \"osf_abstractnode\".\"wiki_private_uuids\", \"osf_abstractnode\".\"preprint_file_id\", \"osf_abstractnode\".\"preprint_article_doi\", \"osf_abstractnode\".\"_is_preprint_orphan\", \"osf_abstractnode\".\"_has_abandoned_preprint\", \"osf_abstractnode\".\"keenio_read_key\", \"osf_abstractnode\".\"is_bookmark_collection\", \"osf_abstractnode\".\"registered_date\", \"osf_abstractnode\".\"registered_user_id\", \"osf_abstractnode\".\"registered_meta\", \"osf_abstractnode\".\"registered_from_id\", \"osf_abstractnode\".\"registration_approval_id\", \"osf_abstractnode\".\"retraction_id\", \"osf_abstractnode\".\"embargo_id\", \"osf_abstractnode\".\"embargo_termination_approval_id\" FROM \"osf_abstractnode\"\n"
     ]
    }
   ],
   "source": [
    "print(str(AbstractNode.bobjects.include('guids').query))"
   ]
  },
  {
   "cell_type": "code",
   "execution_count": 190,
   "metadata": {
    "collapsed": false,
    "deletable": true,
    "editable": true
   },
   "outputs": [
    {
     "data": {
      "text/plain": [
       "{'__guids': [[1, u'zv7n5', 18, 1, u'2017-02-17T16:45:57.574252+00:00'],\n",
       "  [2, u'zv7jc', 18, 2, u'2017-02-17T16:45:57.574772+00:00'],\n",
       "  [3, u'ztuyr', 18, 3, u'2017-02-17T16:45:57.574796+00:00'],\n",
       "  [4, u'ztuyc', 18, 4, u'2017-02-17T16:45:57.574805+00:00'],\n",
       "  [5, u'zth62', 18, 5, u'2017-02-17T16:45:57.574816+00:00'],\n",
       "  [6, u'zs6uv', 18, 6, u'2017-02-17T16:45:57.574825+00:00'],\n",
       "  [7, u'zr68w', 18, 7, u'2017-02-17T16:45:57.574833+00:00'],\n",
       "  [8, u'zqrk6', 18, 8, u'2017-02-17T16:45:57.57484+00:00'],\n",
       "  [9, u'znqjk', 18, 9, u'2017-02-17T16:45:57.574848+00:00'],\n",
       "  [10, u'znhcq', 18, 10, u'2017-02-17T16:45:57.574856+00:00'],\n",
       "  [11, u'zjndq', 18, 11, u'2017-02-17T16:45:57.574864+00:00'],\n",
       "  [12, u'zh82t', 18, 12, u'2017-02-17T16:45:57.574871+00:00'],\n",
       "  [1068, u'2tq6r', 18, 1068, u'2017-02-17T16:45:57.588223+00:00'],\n",
       "  [1069, u'2tf4c', 18, 1069, u'2017-02-17T16:45:57.588235+00:00'],\n",
       "  [1070, u'2szr4', 18, 1070, u'2017-02-17T16:45:57.588246+00:00'],\n",
       "  [1071, u'2rmuw', 18, 1071, u'2017-02-17T16:45:57.588256+00:00'],\n",
       "  [1072, u'2rhqj', 18, 1072, u'2017-02-17T16:45:57.588268+00:00'],\n",
       "  [1073, u'2qtr3', 18, 1073, u'2017-02-17T16:45:57.588278+00:00'],\n",
       "  [1074, u'2q7c4', 18, 1074, u'2017-02-17T16:45:57.588289+00:00'],\n",
       "  [1075, u'2nsad', 18, 1075, u'2017-02-17T16:45:57.588299+00:00'],\n",
       "  [1076, u'2h5rt', 18, 1076, u'2017-02-17T16:45:57.58831+00:00'],\n",
       "  [1077, u'2gv6f', 18, 1077, u'2017-02-17T16:45:57.58832+00:00'],\n",
       "  [1078, u'2fkja', 18, 1078, u'2017-02-17T16:45:57.588332+00:00'],\n",
       "  [1079, u'2fdtj', 18, 1079, u'2017-02-17T16:45:57.588349+00:00'],\n",
       "  [1080, u'2f79g', 18, 1080, u'2017-02-17T16:45:57.588361+00:00'],\n",
       "  [1081, u'2dhgj', 18, 1081, u'2017-02-17T16:45:57.588372+00:00'],\n",
       "  [1082, u'2c7xf', 18, 1082, u'2017-02-17T16:45:57.588383+00:00'],\n",
       "  [1083, u'2c37z', 18, 1083, u'2017-02-17T16:45:57.588393+00:00'],\n",
       "  [1084, u'29h8x', 18, 1084, u'2017-02-17T16:45:57.588404+00:00'],\n",
       "  [1085, u'28ns4', 18, 1085, u'2017-02-17T16:45:57.588414+00:00'],\n",
       "  [1086, u'27szg', 18, 1086, u'2017-02-17T16:45:57.588424+00:00'],\n",
       "  [1087, u'27gh6', 18, 1087, u'2017-02-17T16:45:57.588435+00:00'],\n",
       "  [1088, u'27fpn', 18, 1088, u'2017-02-17T16:45:57.588447+00:00'],\n",
       "  [1089, u'24s8k', 18, 1089, u'2017-02-17T16:45:57.588458+00:00'],\n",
       "  [1090, u'24jzy', 18, 1090, u'2017-02-17T16:45:57.5885+00:00'],\n",
       "  [1091, u'24jns', 18, 1091, u'2017-02-17T16:45:57.588513+00:00'],\n",
       "  [5062, u'2rn4b', 27, 5062, u'2017-02-17T16:45:59.025823+00:00'],\n",
       "  [128595, u'sfp86', 27, 128595, u'2017-02-17T16:46:00.981321+00:00'],\n",
       "  [143474, u'v894c', 27, 143474, u'2017-02-17T16:46:01.225799+00:00'],\n",
       "  [164134, u'yzeg5', 27, 164134, u'2017-02-17T16:46:01.563455+00:00']],\n",
       " '_has_abandoned_preprint': False,\n",
       " '_is_preprint_orphan': False,\n",
       " '_is_templated_clone': False,\n",
       " '_original_state': {},\n",
       " '_parent': None,\n",
       " '_state': <django.db.models.base.ModelState at 0x1164bc450>,\n",
       " 'category': u'project',\n",
       " 'child_node_subscriptions': {},\n",
       " 'content_type_pk': 27,\n",
       " 'creator_id': 97,\n",
       " 'date_created': datetime.datetime(2015, 7, 1, 15, 40, 23, 20000, tzinfo=<UTC>),\n",
       " 'date_last_reported': None,\n",
       " 'date_modified': datetime.datetime(2015, 7, 1, 15, 40, 23, 20000, tzinfo=<UTC>),\n",
       " 'deleted_date': None,\n",
       " 'description': u'',\n",
       " 'embargo_id': None,\n",
       " 'embargo_termination_approval_id': None,\n",
       " 'file_guid_to_share_uuids': {},\n",
       " 'forked_date': None,\n",
       " 'forked_from_id': None,\n",
       " 'guid_string': [u'e6248'],\n",
       " 'id': 156990,\n",
       " 'is_bookmark_collection': None,\n",
       " 'is_deleted': False,\n",
       " 'is_fork': False,\n",
       " 'is_public': True,\n",
       " 'keenio_read_key': u'befcd1e4b9cc7a10ac26d1668a50a7c865e66f933fc60597eca940502881766f0d0c9cfc05b2e62465a7bfa7e538272bcab3c01503e2051d118de490008ad451086678d100085b312743e80a4659e46a2e26548e5dc6a8e6402cc1f2669797c640e479e68972c25dc10ab7d8eae7159bd28fc84cc9a8a0eba62f4515476125a706083fa284923ad7fbd5115aa0ec4018',\n",
       " 'node_license_id': None,\n",
       " 'piwik_site_id': None,\n",
       " 'preprint_article_doi': None,\n",
       " 'preprint_file_id': None,\n",
       " 'public_comments': True,\n",
       " 'registered_date': datetime.datetime(2015, 7, 15, 20, 6, 4, 735000, tzinfo=<UTC>),\n",
       " 'registered_from_id': 55872,\n",
       " 'registered_meta': {u'564c9395029bdb0c2f4dd900': {u'embargoEndDate': {u'value': u'Wed%2C 15 Jul 2015 20%3A06%3A01 GMT'},\n",
       "   u'registrationChoice': {u'value': u'immediate'},\n",
       "   u'summary': {u'value': u''}}},\n",
       " 'registered_user_id': 97,\n",
       " 'registration_approval_id': None,\n",
       " 'reports': {},\n",
       " 'retraction_id': None,\n",
       " 'root_id': None,\n",
       " 'spam_data': {},\n",
       " 'spam_pro_tip': None,\n",
       " 'spam_status': None,\n",
       " 'suspended': False,\n",
       " 'template_node_id': None,\n",
       " 'title': u'Proj',\n",
       " 'type': u'osf.registration',\n",
       " 'wiki_pages_current': {},\n",
       " 'wiki_pages_versions': {},\n",
       " 'wiki_private_uuids': {}}"
      ]
     },
     "execution_count": 190,
     "metadata": {},
     "output_type": "execute_result"
    }
   ],
   "source": [
    "AbstractNode.bobjects.include('guids')[0].__dict__"
   ]
  },
  {
   "cell_type": "code",
   "execution_count": null,
   "metadata": {
    "collapsed": false,
    "deletable": true,
    "editable": true
   },
   "outputs": [],
   "source": []
  },
  {
   "cell_type": "code",
   "execution_count": null,
   "metadata": {
    "collapsed": false,
    "deletable": true,
    "editable": true
   },
   "outputs": [],
   "source": []
  },
  {
   "cell_type": "code",
   "execution_count": null,
   "metadata": {
    "collapsed": false,
    "deletable": true,
    "editable": true
   },
   "outputs": [],
   "source": []
  },
  {
   "cell_type": "code",
   "execution_count": null,
   "metadata": {
    "collapsed": false,
    "deletable": true,
    "editable": true
   },
   "outputs": [],
   "source": []
  },
  {
   "cell_type": "code",
   "execution_count": null,
   "metadata": {
    "collapsed": false,
    "deletable": true,
    "editable": true
   },
   "outputs": [],
   "source": []
  },
  {
   "cell_type": "code",
   "execution_count": null,
   "metadata": {
    "collapsed": false,
    "deletable": true,
    "editable": true
   },
   "outputs": [],
   "source": []
  },
  {
   "cell_type": "code",
   "execution_count": null,
   "metadata": {
    "collapsed": false,
    "deletable": true,
    "editable": true
   },
   "outputs": [],
   "source": []
  },
  {
   "cell_type": "code",
   "execution_count": null,
   "metadata": {
    "collapsed": false,
    "deletable": true,
    "editable": true
   },
   "outputs": [],
   "source": []
  },
  {
   "cell_type": "code",
   "execution_count": null,
   "metadata": {
    "collapsed": false,
    "deletable": true,
    "editable": true
   },
   "outputs": [],
   "source": []
  },
  {
   "cell_type": "code",
   "execution_count": null,
   "metadata": {
    "collapsed": false,
    "deletable": true,
    "editable": true
   },
   "outputs": [],
   "source": []
  },
  {
   "cell_type": "code",
   "execution_count": null,
   "metadata": {
    "collapsed": false,
    "deletable": true,
    "editable": true
   },
   "outputs": [],
   "source": []
  },
  {
   "cell_type": "code",
   "execution_count": null,
   "metadata": {
    "collapsed": false,
    "deletable": true,
    "editable": true
   },
   "outputs": [],
   "source": []
  },
  {
   "cell_type": "code",
   "execution_count": 51,
   "metadata": {
    "collapsed": false,
    "deletable": true,
    "editable": true
   },
   "outputs": [],
   "source": []
  },
  {
   "cell_type": "code",
   "execution_count": null,
   "metadata": {
    "collapsed": false
   },
   "outputs": [],
   "source": []
  },
  {
   "cell_type": "code",
   "execution_count": null,
   "metadata": {
    "collapsed": false
   },
   "outputs": [],
   "source": []
  },
  {
   "cell_type": "code",
   "execution_count": 92,
   "metadata": {
    "collapsed": false
   },
   "outputs": [],
   "source": []
  },
  {
   "cell_type": "code",
   "execution_count": null,
   "metadata": {
    "collapsed": false
   },
   "outputs": [],
   "source": []
  },
  {
   "cell_type": "code",
   "execution_count": 159,
   "metadata": {
    "collapsed": false
   },
   "outputs": [],
   "source": [
    "field = AbstractNode._meta.get_field('guids')"
   ]
  },
  {
   "cell_type": "code",
   "execution_count": 160,
   "metadata": {
    "collapsed": false
   },
   "outputs": [
    {
     "data": {
      "text/plain": [
       "(('object_id', u'id'),)"
      ]
     },
     "execution_count": 160,
     "metadata": {},
     "output_type": "execute_result"
    }
   ],
   "source": [
    "field.get_joining_columns()"
   ]
  },
  {
   "cell_type": "code",
   "execution_count": 154,
   "metadata": {
    "collapsed": false
   },
   "outputs": [
    {
     "name": "stdout",
     "output_type": "stream",
     "text": [
      "{'context': {}, 'extra_order_by': (), 'extra_tables': (), '_extra': None, 'select': [], 'tables': [u'osf_guid'], 'used_aliases': set([]), 'order_by': [], 'distinct': False, '_annotation_select_cache': None, 'group_by': None, 'select_for_update': False, 'select_related': False, 'deferred_loading': (set([]), True), 'table_map': {u'osf_guid': [u'osf_guid']}, 'alias_map': {u'osf_guid': <django.db.models.sql.datastructures.BaseTable object at 0x11650f9d0>}, 'max_depth': 5, 'standard_ordering': True, 'distinct_fields': [], 'annotation_select_mask': set(['ids']), 'extra_select_mask': set([]), 'select_for_update_nowait': False, '_extra_select_cache': None, 'low_mark': 0, 'external_aliases': set([]), 'alias_refcount': {u'osf_guid': 3}, 'values_select': [], 'default_cols': False, '_annotations': OrderedDict([('ids', JSONAgg(JSONBuildArray(Col(osf_guid, osf.Guid.id), Col(osf_guid, osf.Guid._id))))]), 'default_ordering': False, 'where_class': <class 'django.db.models.sql.where.WhereNode'>, 'model': <class 'osf.models.base.Guid'>, 'where': <WhereNode: (AND: <django.db.models.sql.where.ExtraWhere object at 0x11650f8d0>)>, 'high_mark': None, 'filter_is_sticky': False}\n",
      "SELECT JSON_AGG(json_build_array(\"osf_guid\".\"id\", \"osf_guid\".\"_id\")) AS \"ids\" FROM \"osf_guid\" WHERE (osf_guid.object_id = osf_abstractnode.id)\n"
     ]
    },
    {
     "data": {
      "text/plain": [
       "[<Registration: Proj : (e6248)>, <Registration: a registration project : (e5w73)>, <Registration: Comp2 : (e5pkg)>, <Registration: Clouds : (e5gcm)>, <Registration: Comp3 : (e59xc)>, <Registration: Test! : (e57fv)>, <Registration: Todd's test - Cars : (e53gc)>, <Registration: cheep : (e4ynj)>, <Registration: Green : (e4yjf)>, <Registration: Comp D4 : (e4vtn)>, <Node: Bulk stress 2016-06-10T12:19:25.983Z - 02 : (fy2vc)>, <Node: Bulk stress 2016-04-13T08:06:58.944Z - 03 : (fy2sb)>, <Node: Bulk stress 2016-07-12T00:41:47.288Z - 05 : (fy2hd)>, <Node: Bulk stress 2016-10-04T16:04:20.161Z - 03 : (fy26m)>, <Node: Bulk stress 2016-01-03T19:34:01.728Z - 10 : (fy24h)>, <Node: Bulk stress 2016-04-07T23:05:17.834Z - 01 : (fy24c)>, <Node: Bulk stress 2016-08-05T18:46:37.105Z - 02 : (fy23h)>, <Node: Bulk stress 2016-02-07T05:44:49.614Z - 01 : (fxzp8)>, <Node: Bulk stress 2016-09-24T03:01:06.532Z - 06 : (fxyrd)>, <Node: Bulk stress 2016-11-05T10:21:36.871Z - 08 : (fxy3p)>, '...(remaining elements truncated)...']"
      ]
     },
     "execution_count": 154,
     "metadata": {},
     "output_type": "execute_result"
    }
   ],
   "source": [
    "from django.db.models.expressions import Func\n",
    "from django.contrib.postgres.aggregates import ArrayAgg\n",
    "from django.contrib.postgres.fields import JSONField\n",
    "\n",
    "\n",
    "class JSONBuildArray(Func):\n",
    "    function = 'json_build_array'\n",
    "\n",
    "    \n",
    "class JSONAgg(ArrayAgg):\n",
    "    function = 'JSON_AGG'\n",
    "    def __init__(self, *args):\n",
    "        super(JSONAgg, self).__init__(*args, output_field=JSONField())\n",
    "\n",
    "\n",
    "qs = Guid.objects.all().extra(where=['osf_guid.object_id = osf_abstractnode.id'])\n",
    "qs.query.add_annotation(JSONAgg(JSONBuildArray('id', '_id')), 'ids', is_summary=True)\n",
    "qs = qs.values_list('ids')\n",
    "qs.query.order_by = []\n",
    "qs.query.default_ordering = False\n",
    "print(qs.query.__dict__)\n",
    "sql, params = qs.query.sql_with_params()\n",
    "print(sql)\n",
    "AbstractNode.objects.all().extra(select={'_guids': sql}, select_params=params)"
   ]
  },
  {
   "cell_type": "code",
   "execution_count": 155,
   "metadata": {
    "collapsed": false
   },
   "outputs": [
    {
     "data": {
      "text/plain": [
       "{'_guids': [[67745, u'e6248']],\n",
       " '_has_abandoned_preprint': False,\n",
       " '_is_preprint_orphan': False,\n",
       " '_is_templated_clone': False,\n",
       " '_original_state': {},\n",
       " '_parent': None,\n",
       " '_state': <django.db.models.base.ModelState at 0x116441490>,\n",
       " 'category': u'project',\n",
       " 'child_node_subscriptions': {},\n",
       " 'content_type_pk': 27,\n",
       " 'creator_id': 97,\n",
       " 'date_created': datetime.datetime(2015, 7, 1, 15, 40, 23, 20000, tzinfo=<UTC>),\n",
       " 'date_last_reported': None,\n",
       " 'date_modified': datetime.datetime(2015, 7, 1, 15, 40, 23, 20000, tzinfo=<UTC>),\n",
       " 'deleted_date': None,\n",
       " 'description': u'',\n",
       " 'embargo_id': None,\n",
       " 'embargo_termination_approval_id': None,\n",
       " 'file_guid_to_share_uuids': {},\n",
       " 'forked_date': None,\n",
       " 'forked_from_id': None,\n",
       " 'guid_string': [u'e6248'],\n",
       " 'id': 156990,\n",
       " 'is_bookmark_collection': None,\n",
       " 'is_deleted': False,\n",
       " 'is_fork': False,\n",
       " 'is_public': True,\n",
       " 'keenio_read_key': u'befcd1e4b9cc7a10ac26d1668a50a7c865e66f933fc60597eca940502881766f0d0c9cfc05b2e62465a7bfa7e538272bcab3c01503e2051d118de490008ad451086678d100085b312743e80a4659e46a2e26548e5dc6a8e6402cc1f2669797c640e479e68972c25dc10ab7d8eae7159bd28fc84cc9a8a0eba62f4515476125a706083fa284923ad7fbd5115aa0ec4018',\n",
       " 'node_license_id': None,\n",
       " 'piwik_site_id': None,\n",
       " 'preprint_article_doi': None,\n",
       " 'preprint_file_id': None,\n",
       " 'public_comments': True,\n",
       " 'registered_date': datetime.datetime(2015, 7, 15, 20, 6, 4, 735000, tzinfo=<UTC>),\n",
       " 'registered_from_id': 55872,\n",
       " 'registered_meta': {u'564c9395029bdb0c2f4dd900': {u'embargoEndDate': {u'value': u'Wed%2C 15 Jul 2015 20%3A06%3A01 GMT'},\n",
       "   u'registrationChoice': {u'value': u'immediate'},\n",
       "   u'summary': {u'value': u''}}},\n",
       " 'registered_user_id': 97,\n",
       " 'registration_approval_id': None,\n",
       " 'reports': {},\n",
       " 'retraction_id': None,\n",
       " 'root_id': None,\n",
       " 'spam_data': {},\n",
       " 'spam_pro_tip': None,\n",
       " 'spam_status': None,\n",
       " 'suspended': False,\n",
       " 'template_node_id': None,\n",
       " 'title': u'Proj',\n",
       " 'type': u'osf.registration',\n",
       " 'wiki_pages_current': {},\n",
       " 'wiki_pages_versions': {},\n",
       " 'wiki_private_uuids': {}}"
      ]
     },
     "execution_count": 155,
     "metadata": {},
     "output_type": "execute_result"
    }
   ],
   "source": [
    "_[0].__dict__"
   ]
  },
  {
   "cell_type": "code",
   "execution_count": 128,
   "metadata": {
    "collapsed": false
   },
   "outputs": [
    {
     "name": "stdout",
     "output_type": "stream",
     "text": [
      "SELECT \"osf_abstractnode\".\"id\", \"osf_abstractnode\".\"guid_string\", \"osf_abstractnode\".\"content_type_pk\", \"osf_abstractnode\".\"type\", \"osf_abstractnode\".\"spam_status\", \"osf_abstractnode\".\"spam_pro_tip\", \"osf_abstractnode\".\"spam_data\", \"osf_abstractnode\".\"date_last_reported\", \"osf_abstractnode\".\"reports\", \"osf_abstractnode\".\"category\", \"osf_abstractnode\".\"child_node_subscriptions\", \"osf_abstractnode\".\"creator_id\", \"osf_abstractnode\".\"date_created\", \"osf_abstractnode\".\"date_modified\", \"osf_abstractnode\".\"deleted_date\", \"osf_abstractnode\".\"description\", \"osf_abstractnode\".\"file_guid_to_share_uuids\", \"osf_abstractnode\".\"forked_date\", \"osf_abstractnode\".\"forked_from_id\", \"osf_abstractnode\".\"is_fork\", \"osf_abstractnode\".\"is_public\", \"osf_abstractnode\".\"is_deleted\", \"osf_abstractnode\".\"node_license_id\", \"osf_abstractnode\".\"root_id\", \"osf_abstractnode\".\"piwik_site_id\", \"osf_abstractnode\".\"public_comments\", \"osf_abstractnode\".\"suspended\", \"osf_abstractnode\".\"template_node_id\", \"osf_abstractnode\".\"title\", \"osf_abstractnode\".\"wiki_pages_current\", \"osf_abstractnode\".\"wiki_pages_versions\", \"osf_abstractnode\".\"wiki_private_uuids\", \"osf_abstractnode\".\"preprint_file_id\", \"osf_abstractnode\".\"preprint_article_doi\", \"osf_abstractnode\".\"_is_preprint_orphan\", \"osf_abstractnode\".\"_has_abandoned_preprint\", \"osf_abstractnode\".\"keenio_read_key\", \"osf_abstractnode\".\"is_bookmark_collection\", \"osf_abstractnode\".\"registered_date\", \"osf_abstractnode\".\"registered_user_id\", \"osf_abstractnode\".\"registered_meta\", \"osf_abstractnode\".\"registered_from_id\", \"osf_abstractnode\".\"registration_approval_id\", \"osf_abstractnode\".\"retraction_id\", \"osf_abstractnode\".\"embargo_id\", \"osf_abstractnode\".\"embargo_termination_approval_id\", T2.\"id\", T2.\"guid_string\", T2.\"content_type_pk\", T2.\"type\", T2.\"spam_status\", T2.\"spam_pro_tip\", T2.\"spam_data\", T2.\"date_last_reported\", T2.\"reports\", T2.\"category\", T2.\"child_node_subscriptions\", T2.\"creator_id\", T2.\"date_created\", T2.\"date_modified\", T2.\"deleted_date\", T2.\"description\", T2.\"file_guid_to_share_uuids\", T2.\"forked_date\", T2.\"forked_from_id\", T2.\"is_fork\", T2.\"is_public\", T2.\"is_deleted\", T2.\"node_license_id\", T2.\"root_id\", T2.\"piwik_site_id\", T2.\"public_comments\", T2.\"suspended\", T2.\"template_node_id\", T2.\"title\", T2.\"wiki_pages_current\", T2.\"wiki_pages_versions\", T2.\"wiki_private_uuids\", T2.\"preprint_file_id\", T2.\"preprint_article_doi\", T2.\"_is_preprint_orphan\", T2.\"_has_abandoned_preprint\", T2.\"keenio_read_key\", T2.\"is_bookmark_collection\", T2.\"registered_date\", T2.\"registered_user_id\", T2.\"registered_meta\", T2.\"registered_from_id\", T2.\"registration_approval_id\", T2.\"retraction_id\", T2.\"embargo_id\", T2.\"embargo_termination_approval_id\" FROM \"osf_abstractnode\" LEFT OUTER JOIN \"osf_abstractnode\" T2 ON (\"osf_abstractnode\".\"root_id\" = T2.\"id\")\n"
     ]
    }
   ],
   "source": [
    "print(str(AbstractNode.objects.select_related('root').query))"
   ]
  },
  {
   "cell_type": "code",
   "execution_count": 130,
   "metadata": {
    "collapsed": false
   },
   "outputs": [
    {
     "data": {
      "text/plain": [
       "{'_annotation_select_cache': None,\n",
       " '_annotations': None,\n",
       " '_extra': None,\n",
       " '_extra_select_cache': None,\n",
       " '_lookup_joins': [u'osf_abstractnode', 'T2'],\n",
       " 'alias_map': {'T2': <django.db.models.sql.datastructures.Join at 0x116455590>,\n",
       "  u'osf_abstractnode': <django.db.models.sql.datastructures.BaseTable at 0x116455610>},\n",
       " 'alias_refcount': {'T2': 0, u'osf_abstractnode': 1},\n",
       " 'annotation_select_mask': None,\n",
       " 'context': {},\n",
       " 'default_cols': True,\n",
       " 'default_ordering': True,\n",
       " 'deferred_loading': (set(), True),\n",
       " 'distinct': False,\n",
       " 'distinct_fields': [],\n",
       " 'external_aliases': set(),\n",
       " 'extra_order_by': (),\n",
       " 'extra_select_mask': None,\n",
       " 'extra_tables': (),\n",
       " 'filter_is_sticky': False,\n",
       " 'group_by': None,\n",
       " 'high_mark': None,\n",
       " 'low_mark': 0,\n",
       " 'max_depth': 5,\n",
       " 'model': osf.models.node.AbstractNode,\n",
       " 'order_by': [],\n",
       " 'select': [],\n",
       " 'select_for_update': False,\n",
       " 'select_for_update_nowait': False,\n",
       " 'select_related': False,\n",
       " 'standard_ordering': True,\n",
       " 'table_map': {u'osf_abstractnode': [u'osf_abstractnode', 'T2']},\n",
       " 'tables': [u'osf_abstractnode', 'T2'],\n",
       " 'used_aliases': {'T2', u'osf_abstractnode'},\n",
       " 'values_select': [],\n",
       " 'where': <WhereNode: (AND: <django.db.models.lookups.Exact object at 0x116455b50>)>,\n",
       " 'where_class': django.db.models.sql.where.WhereNode}"
      ]
     },
     "execution_count": 130,
     "metadata": {},
     "output_type": "execute_result"
    }
   ],
   "source": [
    "AbstractNode.objects.filter(root__id=1).query.__dict__"
   ]
  },
  {
   "cell_type": "code",
   "execution_count": 133,
   "metadata": {
    "collapsed": false
   },
   "outputs": [
    {
     "name": "stdout",
     "output_type": "stream",
     "text": [
      "SELECT \"osf_abstractnode\".\"id\", \"osf_abstractnode\".\"guid_string\", \"osf_abstractnode\".\"content_type_pk\", \"osf_abstractnode\".\"type\", \"osf_abstractnode\".\"spam_status\", \"osf_abstractnode\".\"spam_pro_tip\", \"osf_abstractnode\".\"spam_data\", \"osf_abstractnode\".\"date_last_reported\", \"osf_abstractnode\".\"reports\", \"osf_abstractnode\".\"category\", \"osf_abstractnode\".\"child_node_subscriptions\", \"osf_abstractnode\".\"creator_id\", \"osf_abstractnode\".\"date_created\", \"osf_abstractnode\".\"date_modified\", \"osf_abstractnode\".\"deleted_date\", \"osf_abstractnode\".\"description\", \"osf_abstractnode\".\"file_guid_to_share_uuids\", \"osf_abstractnode\".\"forked_date\", \"osf_abstractnode\".\"forked_from_id\", \"osf_abstractnode\".\"is_fork\", \"osf_abstractnode\".\"is_public\", \"osf_abstractnode\".\"is_deleted\", \"osf_abstractnode\".\"node_license_id\", \"osf_abstractnode\".\"root_id\", \"osf_abstractnode\".\"piwik_site_id\", \"osf_abstractnode\".\"public_comments\", \"osf_abstractnode\".\"suspended\", \"osf_abstractnode\".\"template_node_id\", \"osf_abstractnode\".\"title\", \"osf_abstractnode\".\"wiki_pages_current\", \"osf_abstractnode\".\"wiki_pages_versions\", \"osf_abstractnode\".\"wiki_private_uuids\", \"osf_abstractnode\".\"preprint_file_id\", \"osf_abstractnode\".\"preprint_article_doi\", \"osf_abstractnode\".\"_is_preprint_orphan\", \"osf_abstractnode\".\"_has_abandoned_preprint\", \"osf_abstractnode\".\"keenio_read_key\", \"osf_abstractnode\".\"is_bookmark_collection\", \"osf_abstractnode\".\"registered_date\", \"osf_abstractnode\".\"registered_user_id\", \"osf_abstractnode\".\"registered_meta\", \"osf_abstractnode\".\"registered_from_id\", \"osf_abstractnode\".\"registration_approval_id\", \"osf_abstractnode\".\"retraction_id\", \"osf_abstractnode\".\"embargo_id\", \"osf_abstractnode\".\"embargo_termination_approval_id\" FROM \"osf_abstractnode\" , \"osf_guid\"\n"
     ]
    }
   ],
   "source": [
    "print(str(AbstractNode.objects.extra(tables=['osf_guid']).query))"
   ]
  },
  {
   "cell_type": "code",
   "execution_count": null,
   "metadata": {
    "collapsed": true
   },
   "outputs": [],
   "source": []
  }
 ],
 "metadata": {
  "kernelspec": {
   "display_name": "Django Shell-Plus",
   "language": "python",
   "name": "django_extensions"
  },
  "language_info": {
   "codemirror_mode": {
    "name": "ipython",
    "version": 2
   },
   "file_extension": ".py",
   "mimetype": "text/x-python",
   "name": "python",
   "nbconvert_exporter": "python",
   "pygments_lexer": "ipython2",
   "version": "2.7.12"
  }
 },
 "nbformat": 4,
 "nbformat_minor": 2
}
