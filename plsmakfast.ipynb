{
 "cells": [
  {
   "cell_type": "code",
   "execution_count": null,
   "metadata": {
    "collapsed": false,
    "deletable": true,
    "editable": true
   },
   "outputs": [],
   "source": [
    "from django.db import models\n",
    "from django.db.models.sql.query import Query\n",
    "from django.db.models.sql.datastructures import Join\n",
    "from django.db.models.query import ModelIterable\n",
    "from django.contrib.contenttypes.models import ContentType\n",
    "from django.contrib.contenttypes.fields import GenericRelation\n",
    "\n",
    "\n",
    "class IncludeModelIterable(ModelIterable):\n",
    "    \n",
    "    def __iter__(self):\n",
    "        print(self.queryset._includes)\n",
    "        for instance in super(IncludeModelIterable, self).__iter__():\n",
    "            for includer in self.queryset._includes.values():\n",
    "                includer.extract(instance)\n",
    "                \n",
    "            yield instance\n",
    "            \n",
    "            \n",
    "class AbstractIncluder(object):\n",
    "    def __init__(self, alias, field):\n",
    "        self.alias = alias\n",
    "        self.field = field\n",
    "        self.model = field.related_model\n",
    "        self.host_model = field.model\n",
    "        \n",
    "\n",
    "class ManyToOneIncluder(AbstractIncluder):\n",
    "    \n",
    "    def extract(self, instance):\n",
    "        data = getattr(instance, self.alias)\n",
    "        delattr(instance, self.alias)\n",
    "        setattr(instance, self.field.get_cache_name(), self.model.from_db(instance._state.db, None, data))\n",
    "        \n",
    "    def extra_query(self):\n",
    "        return {self.alias:'''\n",
    "        SELECT json_build_array({select})\n",
    "        FROM \"{table}\" AS \"{alias}\"\n",
    "        WHERE \"{alias}\".\"{join_column}\" = \"{host}\".\"{host_join_column}\"\n",
    "        '''.format(\n",
    "            alias=self.alias,\n",
    "            table=self.model._meta.db_table,\n",
    "            join_column=self.field.target_field.column,\n",
    "            host=self.host_model._meta.db_table,\n",
    "            host_join_column=self.field.column,\n",
    "            select=', '.join('\"{}\".\"{}\"'.format(self.alias, f.column) for f in self.model._meta.concrete_fields)\n",
    "        )}\n",
    "\n",
    "\n",
    "class OneToManyIncluder(AbstractIncluder):\n",
    "    \n",
    "    def extract(self, instance):\n",
    "        data = getattr(instance, self.alias)\n",
    "        delattr(instance, self.alias)\n",
    "        \n",
    "        if not hasattr(instance, '_prefetched_objects_cache'):\n",
    "            instance._prefetched_objects_cache = {}\n",
    "        instance._prefetched_objects_cache[self.field.name] = self.model.objects.none()\n",
    "        instance._prefetched_objects_cache[self.field.name]._result_cache = [\n",
    "            self.model.from_db(instance._state.db, None, datum)\n",
    "            for datum in data\n",
    "        ]\n",
    "    \n",
    "    def extra_query(self):\n",
    "        host_join_column, join_column = self.field.get_joining_columns()[0]\n",
    "        return {self.alias:'''\n",
    "        SELECT json_agg(json_build_array({select}))\n",
    "        FROM \"{table}\" AS \"{alias}\"\n",
    "        WHERE \"{alias}\".\"{join_column}\" = \"{host}\".\"{host_join_column}\"\n",
    "        '''.format(\n",
    "            alias=self.alias,\n",
    "            table=self.model._meta.db_table,\n",
    "            join_column=join_column,\n",
    "            host=self.host_model._meta.db_table,\n",
    "            host_join_column=host_join_column,\n",
    "            select=', '.join('\"{}\".\"{}\"'.format(self.alias, f.column) for f in self.model._meta.concrete_fields)\n",
    "        )}\n",
    "    \n",
    "    \n",
    "class OneToManyIncluder(AbstractIncluder):\n",
    "    \n",
    "    def extract(self, instance):\n",
    "        data = getattr(instance, self.alias)\n",
    "        delattr(instance, self.alias)\n",
    "        \n",
    "        if not hasattr(instance, '_prefetched_objects_cache'):\n",
    "            instance._prefetched_objects_cache = {}\n",
    "        instance._prefetched_objects_cache[self.field.name] = self.model.objects.none()\n",
    "        instance._prefetched_objects_cache[self.field.name]._result_cache = [\n",
    "            self.model.from_db(instance._state.db, None, datum)\n",
    "            for datum in data\n",
    "        ]\n",
    "    \n",
    "    def extra_query(self):\n",
    "        host_join_column, join_column = self.field.get_joining_columns()[0]\n",
    "        return {self.alias:'''\n",
    "        SELECT json_agg(json_build_array({select}))\n",
    "        FROM \"{table}\" AS \"{alias}\"\n",
    "        WHERE \"{alias}\".\"{join_column}\" = \"{host}\".\"{host_join_column}\"\n",
    "        '''.format(\n",
    "            alias=self.alias,\n",
    "            table=self.model._meta.db_table,\n",
    "            join_column=join_column,\n",
    "            host=self.host_model._meta.db_table,\n",
    "            host_join_column=host_join_column,\n",
    "            select=', '.join('\"{}\".\"{}\"'.format(self.alias, f.column) for f in self.model._meta.concrete_fields)\n",
    "        )}\n",
    "\n",
    "    \n",
    "class GenericRelationIncluder(OneToManyIncluder):\n",
    "    def extra_query(self):\n",
    "        join_column, host_join_column = self.field.get_joining_columns()[0]\n",
    "        return {self.alias:'''\n",
    "        SELECT json_agg(json_build_array({select}))\n",
    "        FROM \"{table}\" AS \"{alias}\"\n",
    "        WHERE \"{alias}\".\"{join_column}\" = \"{host}\".\"{host_join_column}\"\n",
    "        AND \"{alias}\".\"{content_type}\" = {content_type_id}\n",
    "        '''.format(\n",
    "            alias=self.alias,\n",
    "            table=self.model._meta.db_table,\n",
    "            join_column=join_column,\n",
    "            host=self.host_model._meta.db_table,\n",
    "            host_join_column=host_join_column,\n",
    "            select=', '.join('\"{}\".\"{}\"'.format(self.alias, f.column) for f in self.model._meta.concrete_fields),\n",
    "            content_type=self.model._meta.get_field(self.field.content_type_field_name).column,\n",
    "            content_type_id=ContentType.objects.get_for_model(self.host_model).pk\n",
    "        )}\n",
    "\n",
    "\n",
    "class IncludeQuerySet(models.QuerySet):\n",
    "\n",
    "    def __init__(self, *args, **kwargs):\n",
    "        super(IncludeQuerySet, self).__init__(*args, **kwargs)\n",
    "        self._includes = {}\n",
    "        self._iterable_class = IncludeModelIterable\n",
    "\n",
    "    def include(self, *related_names):\n",
    "        clone = self._clone()\n",
    "        for related_name in related_names:\n",
    "            field = self.model._meta.get_field(related_name)\n",
    "            if isinstance(field, GenericRelation):\n",
    "                clone._includes[field] = GenericRelationIncluder('__garbage__' + field.name, field)\n",
    "            elif field.many_to_one:\n",
    "                clone._includes[field] = ManyToOneIncluder('__garbage__' + field.name, field)\n",
    "            elif field.one_to_many:\n",
    "                clone._includes[field] = OneToManyIncluder('__garbage__' + field.name, field)\n",
    "        clone.__construct_extra()\n",
    "        return clone\n",
    "    \n",
    "    def __construct_extra(self):\n",
    "        for includer in self._includes.values():\n",
    "            self.query.add_extra(includer.extra_query(), None, None, None, None, None)\n",
    "            \n",
    "    def _clone(self):\n",
    "        clone = super(IncludeQuerySet, self)._clone()\n",
    "        clone._includes = self._includes\n",
    "        return clone\n",
    "        \n",
    "IncludeManager = IncludeQuerySet.as_manager()\n",
    "IncludeManager.contribute_to_class(AbstractNode, 'bobjects')"
   ]
  },
  {
   "cell_type": "code",
   "execution_count": null,
   "metadata": {
    "collapsed": false,
    "deletable": true,
    "editable": true
   },
   "outputs": [],
   "source": [
    "from django.db import models\n",
    "from django.db.models.sql.query import Query\n",
    "from django.db.models.sql.datastructures import Join\n",
    "from django.db.models.query import ModelIterable\n",
    "from django.contrib.contenttypes.models import ContentType\n",
    "from django.contrib.contenttypes.fields import GenericRelation\n",
    "from django.db.models.expressions import Func, Value, RawSQL\n",
    "from django.db.models.expressions import OrderBy\n",
    "from django.contrib.postgres.aggregates import ArrayAgg\n",
    "from django.contrib.postgres.fields import JSONField\n",
    "import ujson\n",
    "import psycopg2\n",
    "from collections import OrderedDict\n",
    "\n",
    "\n",
    "def _load(s):\n",
    "    if s == '{}':\n",
    "        return {}\n",
    "    return ujson.loads(s)\n",
    "psycopg2.extras.register_default_json(globally=True, loads=_load)\n",
    "\n",
    "\n",
    "class JSONBuildArray(Func):\n",
    "    function = 'JSON_BUILD_ARRAY'\n",
    "        \n",
    "    def __init__(self, *args, **kwargs):\n",
    "        super(JSONBuildArray, self).__init__(*args, output_field=JSONField(), **kwargs)\n",
    "    \n",
    "\n",
    "class JSONAgg(ArrayAgg):\n",
    "    function = 'JSON_AGG'\n",
    "    template = '%(function)s(%(expressions)s%(order_by)s)'\n",
    "    \n",
    "    def __init__(self, *args, **kwargs):\n",
    "        super(JSONAgg, self).__init__(*args, output_field=JSONField(), **kwargs)\n",
    "    \n",
    "    def as_sql(self, compiler, connection, function=None, template=None):\n",
    "        if self.extra.get('order_by'):\n",
    "            self.extra['order_by'] = ' ORDER BY ' + ', '.join(compiler.compile(x)[0] for x in self.extra['order_by'])\n",
    "        else:\n",
    "            self.extra['order_by'] = ''\n",
    "        return super(JSONAgg, self).as_sql(compiler, connection, function=None, template=None)\n",
    "        \n",
    "\n",
    "class IncludeModelIterable(ModelIterable):\n",
    "    \n",
    "    @classmethod\n",
    "    def parse_nested(cls, instance, field, nested, datas):\n",
    "        if field.many_to_one:\n",
    "            datas = (datas, )\n",
    "        ps = []    \n",
    "        \n",
    "        for data in datas or []:\n",
    "            data, nested_data = data[:-len(nested) or None], data[-len(nested):]\n",
    "            parsed = field.related_model.from_db(instance._state.db, None, data)\n",
    "            for (f, n), d in zip(nested.items(), nested_data) :\n",
    "                cls.parse_nested(parsed, f, n, d)\n",
    "            ps.append(parsed)\n",
    "            \n",
    "        if field.many_to_one:\n",
    "            return setattr(instance, field.get_cache_name(), ps[0])\n",
    "        \n",
    "        if not hasattr(instance, '_prefetched_objects_cache'):\n",
    "            instance._prefetched_objects_cache = {}\n",
    "        instance._prefetched_objects_cache[field.name] = field.related_model.objects.none()\n",
    "        instance._prefetched_objects_cache[field.name]._result_cache = ps\n",
    "        \n",
    "    \n",
    "    @classmethod\n",
    "    def parse_includes(cls, instance, fields):\n",
    "        for field, nested in fields.items():\n",
    "            data = getattr(instance, '__' + field.name)\n",
    "            delattr(instance, '__' + field.name)\n",
    "            cls.parse_nested(instance, field, nested, data)\n",
    "    \n",
    "    def __iter__(self):\n",
    "        for instance in super(IncludeModelIterable, self).__iter__():\n",
    "            self.parse_includes(instance, self.queryset._includes)\n",
    "                \n",
    "            yield instance\n",
    "            \n",
    "            \n",
    "class IncludeQuerySet(models.QuerySet):\n",
    "\n",
    "    def __init__(self, *args, **kwargs):\n",
    "        super(IncludeQuerySet, self).__init__(*args, **kwargs)\n",
    "        self._include_limit = None\n",
    "        self._includes = OrderedDict()\n",
    "        self._iterable_class = IncludeModelIterable\n",
    "\n",
    "    def include(self, *related_names, **kwargs):\n",
    "        clone = self._clone()\n",
    "        clone._include_limit = kwargs.pop('limit_includes', None)\n",
    "        assert not kwargs, '\"limit_includes\" is the only accepted kwargs. Eat your heart out 2.7'\n",
    "        \n",
    "        for name in related_names:\n",
    "            ctx, model = self._includes, self.model\n",
    "            for spl in name.split('__'):\n",
    "                field = model._meta.get_field(spl)\n",
    "                model = field.related_model\n",
    "                ctx = ctx.setdefault(field, OrderedDict())\n",
    "                \n",
    "        for field in self._includes.keys():\n",
    "            clone._include(field)\n",
    "            \n",
    "        return clone\n",
    "    \n",
    "    def _include(self, field):\n",
    "        sql, params = self._build_include_sql(field, self._includes[field])\n",
    "        self.query.add_extra({'__' + field.name: sql}, params, None, None, None, None)        \n",
    "\n",
    "    def _build_include_sql(self, field, children):\n",
    "        host_model = field.model\n",
    "        model = field.related_model\n",
    "        \n",
    "        if isinstance(field, GenericRelation):\n",
    "            column, host_column = field.get_joining_columns()[0]\n",
    "        else:\n",
    "            host_column, column = field.get_joining_columns()[0]\n",
    "\n",
    "        qs = model.objects.all()\n",
    "        \n",
    "        if self._include_limit:\n",
    "            qs.query.set_limits(0, self._include_limit)\n",
    "        \n",
    "        kwargs = {}        \n",
    "        if qs.ordered:\n",
    "            kwargs['order_by'] = zip(*qs.query.get_compiler(using=self.db).get_order_by())[0]\n",
    "        \n",
    "        where = ['\"{table}\".\"{column}\" = \"{host_table}\".\"{host_column}\"'.format(\n",
    "            table=model._meta.db_table,\n",
    "            column=column,\n",
    "            host_table=host_model._meta.db_table,\n",
    "            host_column=host_column,\n",
    "        )]\n",
    "        \n",
    "        if isinstance(field, GenericRelation):\n",
    "            where.append('\"{table}\".\"{content_type}\" = {content_type_id}'.format(\n",
    "                table=model._meta.db_table,\n",
    "                content_type=model._meta.get_field(field.content_type_field_name).column,\n",
    "                content_type_id=ContentType.objects.get_for_model(host_model).pk\n",
    "            ))\n",
    " \n",
    "        qs.query.add_extra(None, None, where, None, None, None)\n",
    "    \n",
    "        expressions = [f.column for f in model._meta.concrete_fields]\n",
    "        \n",
    "        for item in children.items():\n",
    "            expressions.append(RawSQL(*self._build_include_sql(*item)))\n",
    "\n",
    "        agg = JSONBuildArray(*expressions)\n",
    "\n",
    "        if not field.many_to_one:\n",
    "            agg = JSONAgg(agg, **kwargs)\n",
    "        \n",
    "        qs.query.add_annotation(agg, '__fields', is_summary=True)\n",
    "        \n",
    "        qs = qs.values_list('__fields')\n",
    "        qs.query.clear_ordering(True)\n",
    "        \n",
    "        return qs.query.sql_with_params()\n",
    "\n",
    "    def _clone(self):\n",
    "        clone = super(IncludeQuerySet, self)._clone()\n",
    "        clone._includes = self._includes\n",
    "        return clone\n",
    "\n",
    "    \n",
    "IncludeQuerySet.as_manager().contribute_to_class(Guid, 'bobjects')\n",
    "IncludeQuerySet.as_manager().contribute_to_class(AbstractNode, 'bobjects')\n",
    "IncludeQuerySet.as_manager().contribute_to_class(Contributor, 'bobjects')\n",
    "IncludeQuerySet.as_manager().contribute_to_class(OSFUser, 'bobjects')"
   ]
  },
  {
   "cell_type": "code",
   "execution_count": null,
   "metadata": {
    "collapsed": false,
    "deletable": true,
    "editable": true
   },
   "outputs": [],
   "source": [
    "#print_sql(str(AbstractNode.bobjects.include('guids', 'contributor_set__user').query))"
   ]
  },
  {
   "cell_type": "code",
   "execution_count": null,
   "metadata": {
    "collapsed": false,
    "deletable": true,
    "editable": true
   },
   "outputs": [],
   "source": [
    "%prun list(AbstractNode.bobjects.include('guids', 'contributor_set__user__guids')[:500])"
   ]
  },
  {
   "cell_type": "code",
   "execution_count": null,
   "metadata": {
    "collapsed": false,
    "deletable": true,
    "editable": true
   },
   "outputs": [],
   "source": [
    "print(str(AbstractNode.bobjects.include('guids', 'contributor_set__user__guids', limit_includes=10).query))"
   ]
  },
  {
   "cell_type": "code",
   "execution_count": null,
   "metadata": {
    "collapsed": false,
    "deletable": true,
    "editable": true
   },
   "outputs": [],
   "source": [
    "for x in AbstractNode.bobjects.include('guids', 'contributor_set__user__guids')[100:200]:\n",
    "    print(x._id)\n",
    "    print([contrib.user._id for contrib in x.contributor_set.all()])"
   ]
  },
  {
   "cell_type": "code",
   "execution_count": null,
   "metadata": {
    "collapsed": false,
    "deletable": true,
    "editable": true
   },
   "outputs": [],
   "source": [
    "%pdb"
   ]
  },
  {
   "cell_type": "code",
   "execution_count": null,
   "metadata": {
    "collapsed": false,
    "deletable": true,
    "editable": true
   },
   "outputs": [],
   "source": []
  },
  {
   "cell_type": "code",
   "execution_count": null,
   "metadata": {
    "collapsed": false,
    "deletable": true,
    "editable": true
   },
   "outputs": [],
   "source": []
  },
  {
   "cell_type": "code",
   "execution_count": null,
   "metadata": {
    "collapsed": false,
    "deletable": true,
    "editable": true
   },
   "outputs": [],
   "source": []
  },
  {
   "cell_type": "code",
   "execution_count": null,
   "metadata": {
    "collapsed": false,
    "deletable": true,
    "editable": true
   },
   "outputs": [],
   "source": []
  },
  {
   "cell_type": "code",
   "execution_count": null,
   "metadata": {
    "collapsed": false,
    "deletable": true,
    "editable": true
   },
   "outputs": [],
   "source": [
    "Guid._meta.get_field('id')"
   ]
  },
  {
   "cell_type": "code",
   "execution_count": null,
   "metadata": {
    "collapsed": false,
    "deletable": true,
    "editable": true
   },
   "outputs": [],
   "source": [
    "Guid._meta.get_field('id').get_col('id').asc()"
   ]
  },
  {
   "cell_type": "code",
   "execution_count": null,
   "metadata": {
    "collapsed": false,
    "deletable": true,
    "editable": true
   },
   "outputs": [],
   "source": []
  },
  {
   "cell_type": "code",
   "execution_count": null,
   "metadata": {
    "collapsed": false,
    "deletable": true,
    "editable": true
   },
   "outputs": [],
   "source": []
  },
  {
   "cell_type": "code",
   "execution_count": null,
   "metadata": {
    "collapsed": false,
    "deletable": true,
    "editable": true
   },
   "outputs": [],
   "source": []
  },
  {
   "cell_type": "code",
   "execution_count": null,
   "metadata": {
    "collapsed": false
   },
   "outputs": [],
   "source": []
  },
  {
   "cell_type": "code",
   "execution_count": null,
   "metadata": {
    "collapsed": false
   },
   "outputs": [],
   "source": []
  },
  {
   "cell_type": "code",
   "execution_count": null,
   "metadata": {
    "collapsed": false
   },
   "outputs": [],
   "source": [
    "print(str(AbstractNode.objects.all()[0].guids.all().order_by('id', 'created').query))"
   ]
  },
  {
   "cell_type": "code",
   "execution_count": null,
   "metadata": {
    "collapsed": false
   },
   "outputs": [],
   "source": [
    "zip(*AbstractNode.objects.all()[0].guids.all().order_by('id', 'created').query.get_compiler(using='default').get_order_by())[0]"
   ]
  },
  {
   "cell_type": "code",
   "execution_count": null,
   "metadata": {
    "collapsed": false
   },
   "outputs": [],
   "source": [
    "field = AbstractNode._meta.get_field('guids')"
   ]
  },
  {
   "cell_type": "code",
   "execution_count": null,
   "metadata": {
    "collapsed": false
   },
   "outputs": [],
   "source": [
    "AbstractNode.objects.all()[0].guids.all().query.get_compiler(using='default').get_order_by()"
   ]
  },
  {
   "cell_type": "code",
   "execution_count": null,
   "metadata": {
    "collapsed": false
   },
   "outputs": [],
   "source": [
    "from django.db.models.expressions import Func\n",
    "from django.contrib.postgres.aggregates import ArrayAgg\n",
    "from django.contrib.postgres.fields import JSONField\n",
    "\n",
    "\n",
    "class JSONBuildArray(Func):\n",
    "    function = 'json_build_array'\n",
    "\n",
    "    \n",
    "class JSONAgg(ArrayAgg):\n",
    "    function = 'JSON_AGG'\n",
    "    def __init__(self, *args):\n",
    "        super(JSONAgg, self).__init__(*args, output_field=JSONField())\n",
    "\n",
    "\n",
    "qs = Guid.objects.all().extra(where=['osf_guid.object_id = osf_abstractnode.id'])\n",
    "qs.query.add_annotation(JSONAgg(JSONBuildArray('id', '_id')), 'ids', is_summary=True)\n",
    "qs = qs.values_list('ids')\n",
    "qs.query.order_by = []\n",
    "qs.query.default_ordering = False\n",
    "print(qs.query.__dict__)\n",
    "sql, params = qs.query.sql_with_params()\n",
    "print(sql)\n",
    "AbstractNode.objects.all().extra(select={'_guids': sql}, select_params=params)"
   ]
  },
  {
   "cell_type": "code",
   "execution_count": null,
   "metadata": {
    "collapsed": false
   },
   "outputs": [],
   "source": []
  },
  {
   "cell_type": "code",
   "execution_count": null,
   "metadata": {
    "collapsed": false
   },
   "outputs": [],
   "source": [
    "print(str(AbstractNode.objects.select_related('root').query))"
   ]
  },
  {
   "cell_type": "code",
   "execution_count": null,
   "metadata": {
    "collapsed": false
   },
   "outputs": [],
   "source": [
    "AbstractNode.objects.filter(root__id=1).query.__dict__"
   ]
  },
  {
   "cell_type": "code",
   "execution_count": null,
   "metadata": {
    "collapsed": false
   },
   "outputs": [],
   "source": [
    "print(str(AbstractNode.objects.extra(tables=['osf_guid']).query))"
   ]
  },
  {
   "cell_type": "code",
   "execution_count": null,
   "metadata": {
    "collapsed": true
   },
   "outputs": [],
   "source": [
    "x = AbstractNode.objects.all().prefetch_related('tags').get(id=164233)"
   ]
  },
  {
   "cell_type": "code",
   "execution_count": 1,
   "metadata": {
    "collapsed": false
   },
   "outputs": [
    {
     "ename": "AttributeError",
     "evalue": "'ManyToManyField' object has no attribute 'get_joining_columns'",
     "output_type": "error",
     "traceback": [
      "\u001b[0;31m---------------------------------------------------------------------------\u001b[0m",
      "\u001b[0;31mAttributeError\u001b[0m                            Traceback (most recent call last)",
      "\u001b[0;32m<ipython-input-1-22824edf28b4>\u001b[0m in \u001b[0;36m<module>\u001b[0;34m()\u001b[0m\n\u001b[0;32m----> 1\u001b[0;31m \u001b[0mAbstractNode\u001b[0m\u001b[0;34m.\u001b[0m\u001b[0mobjects\u001b[0m\u001b[0;34m.\u001b[0m\u001b[0mall\u001b[0m\u001b[0;34m(\u001b[0m\u001b[0;34m)\u001b[0m\u001b[0;34m.\u001b[0m\u001b[0minclude\u001b[0m\u001b[0;34m(\u001b[0m\u001b[0;34m'tags'\u001b[0m\u001b[0;34m)\u001b[0m\u001b[0;34m\u001b[0m\u001b[0m\n\u001b[0m",
      "\u001b[0;32m/Users/chrisseto/Documents/COS/osf.io/osf/utils/manager.pyc\u001b[0m in \u001b[0;36minclude\u001b[0;34m(self, *related_names, **kwargs)\u001b[0m\n\u001b[1;32m    115\u001b[0m \u001b[0;34m\u001b[0m\u001b[0m\n\u001b[1;32m    116\u001b[0m         \u001b[0;32mfor\u001b[0m \u001b[0mfield\u001b[0m \u001b[0;32min\u001b[0m \u001b[0mself\u001b[0m\u001b[0;34m.\u001b[0m\u001b[0m_includes\u001b[0m\u001b[0;34m.\u001b[0m\u001b[0mkeys\u001b[0m\u001b[0;34m(\u001b[0m\u001b[0;34m)\u001b[0m\u001b[0;34m:\u001b[0m\u001b[0;34m\u001b[0m\u001b[0m\n\u001b[0;32m--> 117\u001b[0;31m             \u001b[0mclone\u001b[0m\u001b[0;34m.\u001b[0m\u001b[0m_include\u001b[0m\u001b[0;34m(\u001b[0m\u001b[0mfield\u001b[0m\u001b[0;34m)\u001b[0m\u001b[0;34m\u001b[0m\u001b[0m\n\u001b[0m\u001b[1;32m    118\u001b[0m \u001b[0;34m\u001b[0m\u001b[0m\n\u001b[1;32m    119\u001b[0m         \u001b[0;32mreturn\u001b[0m \u001b[0mclone\u001b[0m\u001b[0;34m\u001b[0m\u001b[0m\n",
      "\u001b[0;32m/Users/chrisseto/Documents/COS/osf.io/osf/utils/manager.pyc\u001b[0m in \u001b[0;36m_include\u001b[0;34m(self, field)\u001b[0m\n\u001b[1;32m    125\u001b[0m \u001b[0;34m\u001b[0m\u001b[0m\n\u001b[1;32m    126\u001b[0m     \u001b[0;32mdef\u001b[0m \u001b[0m_include\u001b[0m\u001b[0;34m(\u001b[0m\u001b[0mself\u001b[0m\u001b[0;34m,\u001b[0m \u001b[0mfield\u001b[0m\u001b[0;34m)\u001b[0m\u001b[0;34m:\u001b[0m\u001b[0;34m\u001b[0m\u001b[0m\n\u001b[0;32m--> 127\u001b[0;31m         \u001b[0msql\u001b[0m\u001b[0;34m,\u001b[0m \u001b[0mparams\u001b[0m \u001b[0;34m=\u001b[0m \u001b[0mself\u001b[0m\u001b[0;34m.\u001b[0m\u001b[0m_build_include_sql\u001b[0m\u001b[0;34m(\u001b[0m\u001b[0mfield\u001b[0m\u001b[0;34m,\u001b[0m \u001b[0mself\u001b[0m\u001b[0;34m.\u001b[0m\u001b[0m_includes\u001b[0m\u001b[0;34m[\u001b[0m\u001b[0mfield\u001b[0m\u001b[0;34m]\u001b[0m\u001b[0;34m)\u001b[0m\u001b[0;34m\u001b[0m\u001b[0m\n\u001b[0m\u001b[1;32m    128\u001b[0m         \u001b[0mself\u001b[0m\u001b[0;34m.\u001b[0m\u001b[0mquery\u001b[0m\u001b[0;34m.\u001b[0m\u001b[0madd_extra\u001b[0m\u001b[0;34m(\u001b[0m\u001b[0;34m{\u001b[0m\u001b[0;34m'__'\u001b[0m \u001b[0;34m+\u001b[0m \u001b[0mfield\u001b[0m\u001b[0;34m.\u001b[0m\u001b[0mname\u001b[0m\u001b[0;34m:\u001b[0m \u001b[0msql\u001b[0m\u001b[0;34m}\u001b[0m\u001b[0;34m,\u001b[0m \u001b[0mparams\u001b[0m\u001b[0;34m,\u001b[0m \u001b[0mNone\u001b[0m\u001b[0;34m,\u001b[0m \u001b[0mNone\u001b[0m\u001b[0;34m,\u001b[0m \u001b[0mNone\u001b[0m\u001b[0;34m,\u001b[0m \u001b[0mNone\u001b[0m\u001b[0;34m)\u001b[0m\u001b[0;34m\u001b[0m\u001b[0m\n\u001b[1;32m    129\u001b[0m \u001b[0;34m\u001b[0m\u001b[0m\n",
      "\u001b[0;32m/Users/chrisseto/Documents/COS/osf.io/osf/utils/manager.pyc\u001b[0m in \u001b[0;36m_build_include_sql\u001b[0;34m(self, field, children)\u001b[0m\n\u001b[1;32m    135\u001b[0m             \u001b[0mcolumn\u001b[0m\u001b[0;34m,\u001b[0m \u001b[0mhost_column\u001b[0m \u001b[0;34m=\u001b[0m \u001b[0mfield\u001b[0m\u001b[0;34m.\u001b[0m\u001b[0mget_joining_columns\u001b[0m\u001b[0;34m(\u001b[0m\u001b[0;34m)\u001b[0m\u001b[0;34m[\u001b[0m\u001b[0;36m0\u001b[0m\u001b[0;34m]\u001b[0m\u001b[0;34m\u001b[0m\u001b[0m\n\u001b[1;32m    136\u001b[0m         \u001b[0;32melse\u001b[0m\u001b[0;34m:\u001b[0m\u001b[0;34m\u001b[0m\u001b[0m\n\u001b[0;32m--> 137\u001b[0;31m             \u001b[0mhost_column\u001b[0m\u001b[0;34m,\u001b[0m \u001b[0mcolumn\u001b[0m \u001b[0;34m=\u001b[0m \u001b[0mfield\u001b[0m\u001b[0;34m.\u001b[0m\u001b[0mget_joining_columns\u001b[0m\u001b[0;34m(\u001b[0m\u001b[0;34m)\u001b[0m\u001b[0;34m[\u001b[0m\u001b[0;36m0\u001b[0m\u001b[0;34m]\u001b[0m\u001b[0;34m\u001b[0m\u001b[0m\n\u001b[0m\u001b[1;32m    138\u001b[0m \u001b[0;34m\u001b[0m\u001b[0m\n\u001b[1;32m    139\u001b[0m         \u001b[0mqs\u001b[0m \u001b[0;34m=\u001b[0m \u001b[0mmodel\u001b[0m\u001b[0;34m.\u001b[0m\u001b[0mobjects\u001b[0m\u001b[0;34m.\u001b[0m\u001b[0mall\u001b[0m\u001b[0;34m(\u001b[0m\u001b[0;34m)\u001b[0m\u001b[0;34m\u001b[0m\u001b[0m\n",
      "\u001b[0;31mAttributeError\u001b[0m: 'ManyToManyField' object has no attribute 'get_joining_columns'"
     ]
    }
   ],
   "source": [
    "AbstractNode.objects.all().include('tags')"
   ]
  },
  {
   "cell_type": "code",
   "execution_count": 11,
   "metadata": {
    "collapsed": false
   },
   "outputs": [
    {
     "name": "stdout",
     "output_type": "stream",
     "text": [
      "SELECT\n",
      "  (SELECT JSON_BUILD_ARRAY(\"osf_abstractnode\".\"id\", \"osf_abstractnode\".\"guid_string\", \"osf_abstractnode\".\"content_type_pk\", \"osf_abstractnode\".\"type\", \"osf_abstractnode\".\"spam_status\", \"osf_abstractnode\".\"spam_pro_tip\", \"osf_abstractnode\".\"spam_data\", \"osf_abstractnode\".\"date_last_reported\", \"osf_abstractnode\".\"reports\", \"osf_abstractnode\".\"category\", \"osf_abstractnode\".\"child_node_subscriptions\", \"osf_abstractnode\".\"creator_id\", \"osf_abstractnode\".\"date_created\", \"osf_abstractnode\".\"date_modified\", \"osf_abstractnode\".\"deleted_date\", \"osf_abstractnode\".\"description\", \"osf_abstractnode\".\"file_guid_to_share_uuids\", \"osf_abstractnode\".\"forked_date\", \"osf_abstractnode\".\"forked_from_id\", \"osf_abstractnode\".\"is_fork\", \"osf_abstractnode\".\"is_public\", \"osf_abstractnode\".\"is_deleted\", \"osf_abstractnode\".\"node_license_id\", \"osf_abstractnode\".\"root_id\", \"osf_abstractnode\".\"piwik_site_id\", \"osf_abstractnode\".\"public_comments\", \"osf_abstractnode\".\"suspended\", \"osf_abstractnode\".\"template_node_id\", \"osf_abstractnode\".\"title\", \"osf_abstractnode\".\"wiki_pages_current\", \"osf_abstractnode\".\"wiki_pages_versions\", \"osf_abstractnode\".\"wiki_private_uuids\", \"osf_abstractnode\".\"preprint_file_id\", \"osf_abstractnode\".\"preprint_article_doi\", \"osf_abstractnode\".\"_is_preprint_orphan\", \"osf_abstractnode\".\"_has_abandoned_preprint\", \"osf_abstractnode\".\"keenio_read_key\", \"osf_abstractnode\".\"is_bookmark_collection\", \"osf_abstractnode\".\"registered_date\", \"osf_abstractnode\".\"registered_user_id\", \"osf_abstractnode\".\"registered_meta\", \"osf_abstractnode\".\"registered_from_id\", \"osf_abstractnode\".\"registration_approval_id\", \"osf_abstractnode\".\"retraction_id\", \"osf_abstractnode\".\"embargo_id\", \"osf_abstractnode\".\"embargo_termination_approval_id\",\n",
      "                             (SELECT JSON_AGG(JSON_BUILD_ARRAY(\"osf_guid\".\"id\", \"osf_guid\".\"_id\", \"osf_guid\".\"content_type_id\", \"osf_guid\".\"object_id\", \"osf_guid\".\"created\")\n",
      "                                              ORDER BY \"osf_guid\".\"created\" DESC) AS \"__fields\"\n",
      "                              FROM \"osf_guid\"\n",
      "                              WHERE (\"osf_guid\".\"object_id\" = \"osf_abstractnode\".\"id\")\n",
      "                                AND (\"osf_guid\".\"content_type_id\" = 27))) AS \"__fields\"\n",
      "   FROM \"osf_abstractnode\"\n",
      "   WHERE (\"osf_abstractnode\".\"id\" = \"osf_abstractnode\".\"root_id\")) AS \"__root\",\n",
      "       \"osf_abstractnode\".\"id\",\n",
      "       \"osf_abstractnode\".\"guid_string\",\n",
      "       \"osf_abstractnode\".\"content_type_pk\",\n",
      "       \"osf_abstractnode\".\"type\",\n",
      "       \"osf_abstractnode\".\"spam_status\",\n",
      "       \"osf_abstractnode\".\"spam_pro_tip\",\n",
      "       \"osf_abstractnode\".\"spam_data\",\n",
      "       \"osf_abstractnode\".\"date_last_reported\",\n",
      "       \"osf_abstractnode\".\"reports\",\n",
      "       \"osf_abstractnode\".\"category\",\n",
      "       \"osf_abstractnode\".\"child_node_subscriptions\",\n",
      "       \"osf_abstractnode\".\"creator_id\",\n",
      "       \"osf_abstractnode\".\"date_created\",\n",
      "       \"osf_abstractnode\".\"date_modified\",\n",
      "       \"osf_abstractnode\".\"deleted_date\",\n",
      "       \"osf_abstractnode\".\"description\",\n",
      "       \"osf_abstractnode\".\"file_guid_to_share_uuids\",\n",
      "       \"osf_abstractnode\".\"forked_date\",\n",
      "       \"osf_abstractnode\".\"forked_from_id\",\n",
      "       \"osf_abstractnode\".\"is_fork\",\n",
      "       \"osf_abstractnode\".\"is_public\",\n",
      "       \"osf_abstractnode\".\"is_deleted\",\n",
      "       \"osf_abstractnode\".\"node_license_id\",\n",
      "       \"osf_abstractnode\".\"root_id\",\n",
      "       \"osf_abstractnode\".\"piwik_site_id\",\n",
      "       \"osf_abstractnode\".\"public_comments\",\n",
      "       \"osf_abstractnode\".\"suspended\",\n",
      "       \"osf_abstractnode\".\"template_node_id\",\n",
      "       \"osf_abstractnode\".\"title\",\n",
      "       \"osf_abstractnode\".\"wiki_pages_current\",\n",
      "       \"osf_abstractnode\".\"wiki_pages_versions\",\n",
      "       \"osf_abstractnode\".\"wiki_private_uuids\",\n",
      "       \"osf_abstractnode\".\"preprint_file_id\",\n",
      "       \"osf_abstractnode\".\"preprint_article_doi\",\n",
      "       \"osf_abstractnode\".\"_is_preprint_orphan\",\n",
      "       \"osf_abstractnode\".\"_has_abandoned_preprint\",\n",
      "       \"osf_abstractnode\".\"keenio_read_key\",\n",
      "       \"osf_abstractnode\".\"is_bookmark_collection\",\n",
      "       \"osf_abstractnode\".\"registered_date\",\n",
      "       \"osf_abstractnode\".\"registered_user_id\",\n",
      "       \"osf_abstractnode\".\"registered_meta\",\n",
      "       \"osf_abstractnode\".\"registered_from_id\",\n",
      "       \"osf_abstractnode\".\"registration_approval_id\",\n",
      "       \"osf_abstractnode\".\"retraction_id\",\n",
      "       \"osf_abstractnode\".\"embargo_id\",\n",
      "       \"osf_abstractnode\".\"embargo_termination_approval_id\"\n",
      "FROM \"osf_abstractnode\"\n"
     ]
    }
   ],
   "source": [
    "print_sql(AbstractNode.objects.include('root__guids').query)"
   ]
  },
  {
   "cell_type": "code",
   "execution_count": 8,
   "metadata": {
    "collapsed": false
   },
   "outputs": [
    {
     "data": {
      "text/plain": [
       "u'tag'"
      ]
     },
     "execution_count": 8,
     "metadata": {},
     "output_type": "execute_result"
    }
   ],
   "source": []
  },
  {
   "cell_type": "code",
   "execution_count": null,
   "metadata": {
    "collapsed": true
   },
   "outputs": [],
   "source": []
  }
 ],
 "metadata": {
  "kernelspec": {
   "display_name": "Django Shell-Plus",
   "language": "python",
   "name": "django_extensions"
  },
  "language_info": {
   "codemirror_mode": {
    "name": "ipython",
    "version": 2
   },
   "file_extension": ".py",
   "mimetype": "text/x-python",
   "name": "python",
   "nbconvert_exporter": "python",
   "pygments_lexer": "ipython2",
   "version": "2.7.12"
  }
 },
 "nbformat": 4,
 "nbformat_minor": 2
}
