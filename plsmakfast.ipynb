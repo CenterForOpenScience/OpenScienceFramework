{
 "cells": [
  {
   "cell_type": "code",
   "execution_count": 246,
   "metadata": {
    "collapsed": false
   },
   "outputs": [],
   "source": [
    "from django.db import models\n",
    "from django.db.models.sql.query import Query\n",
    "from django.db.models.query import ModelIterable\n",
    "\n",
    "\n",
    "class IncludeModelIterable(ModelIterable):\n",
    "    \n",
    "    def __iter__(self):\n",
    "        print(self.queryset._includes)\n",
    "        for instance in super(IncludeModelIterable, self).__iter__():\n",
    "            for includer in self.queryset._includes.values():\n",
    "                includer.extract(instance)\n",
    "                \n",
    "            yield instance\n",
    "            \n",
    "            \n",
    "class AbstractIncluder(object):\n",
    "    def __init__(self, alias, field):\n",
    "        self.alias = alias\n",
    "        self.field = field\n",
    "        self.model = field.related_model\n",
    "        self.host_model = field.model\n",
    "        \n",
    "\n",
    "class ManyToOneIncluder(AbstractIncluder):\n",
    "    \n",
    "    def extract(self, instance):\n",
    "        data = getattr(instance, self.alias)\n",
    "        delattr(instance, self.alias)\n",
    "        setattr(instance, self.field.get_cache_name(), self.model.from_db(instance._state.db, None, data))\n",
    "        \n",
    "    def extra_query(self):\n",
    "        return {self.alias:'''\n",
    "        SELECT json_build_array({select})\n",
    "        FROM \"{table}\" AS \"{alias}\"\n",
    "        WHERE \"{alias}\".\"{join_column}\" = \"{host}\".\"{host_join_column}\"\n",
    "        '''.format(\n",
    "            alias=self.alias,\n",
    "            table=self.model._meta.db_table,\n",
    "            join_column=self.field.target_field.column,\n",
    "            host=self.host_model._meta.db_table,\n",
    "            host_join_column=self.field.column,\n",
    "            select=', '.join('\"{}\".\"{}\"'.format(self.alias, f.column) for f in self.model._meta.concrete_fields)\n",
    "        )}\n",
    "\n",
    "\n",
    "class OneToManyIncluder(AbstractIncluder):\n",
    "    \n",
    "    def extract(self, instance):\n",
    "        data = getattr(instance, self.alias)\n",
    "        delattr(instance, self.alias)\n",
    "        \n",
    "        if not hasattr(instance, '_prefetched_objects_cache'):\n",
    "            instance._prefetched_objects_cache = {}\n",
    "        instance._prefetched_objects_cache[self.field.name] = self.model.objects.none()\n",
    "        instance._prefetched_objects_cache[self.field.name]._result_cache = [\n",
    "            self.model.from_db(instance._state.db, None, datum)\n",
    "            for datum in data\n",
    "        ]\n",
    "    \n",
    "    def extra_query(self):\n",
    "        host_join_column, join_column = self.field.get_joining_columns()[0]\n",
    "        return {self.alias:'''\n",
    "        SELECT json_agg(json_build_array({select}))\n",
    "        FROM \"{table}\" AS \"{alias}\"\n",
    "        WHERE \"{alias}\".\"{join_column}\" = \"{host}\".\"{host_join_column}\"\n",
    "        '''.format(\n",
    "            alias=self.alias,\n",
    "            table=self.model._meta.db_table,\n",
    "            join_column=join_column,\n",
    "            host=self.host_model._meta.db_table,\n",
    "            host_join_column=host_join_column,\n",
    "            select=', '.join('\"{}\".\"{}\"'.format(self.alias, f.column) for f in self.model._meta.concrete_fields)\n",
    "        )}\n",
    "    \n",
    "    \n",
    "class OneToManyIncluder(AbstractIncluder):\n",
    "    \n",
    "    def extract(self, instance):\n",
    "        data = getattr(instance, self.alias)\n",
    "        delattr(instance, self.alias)\n",
    "        \n",
    "        if not hasattr(instance, '_prefetched_objects_cache'):\n",
    "            instance._prefetched_objects_cache = {}\n",
    "        instance._prefetched_objects_cache[self.field.name] = self.model.objects.none()\n",
    "        instance._prefetched_objects_cache[self.field.name]._result_cache = [\n",
    "            self.model.from_db(instance._state.db, None, datum)\n",
    "            for datum in data\n",
    "        ]\n",
    "    \n",
    "    def extra_query(self):\n",
    "        host_join_column, join_column = self.field.get_joining_columns()[0]\n",
    "        return {self.alias:'''\n",
    "        SELECT json_agg(json_build_array({select}))\n",
    "        FROM \"{table}\" AS \"{alias}\"\n",
    "        WHERE \"{alias}\".\"{join_column}\" = \"{host}\".\"{host_join_column}\"\n",
    "        '''.format(\n",
    "            alias=self.alias,\n",
    "            table=self.model._meta.db_table,\n",
    "            join_column=join_column,\n",
    "            host=self.host_model._meta.db_table,\n",
    "            host_join_column=host_join_column,\n",
    "            select=', '.join('\"{}\".\"{}\"'.format(self.alias, f.column) for f in self.model._meta.concrete_fields)\n",
    "        )}\n",
    "    \n",
    "\n",
    "class IncludeQuerySet(models.QuerySet):\n",
    "\n",
    "    def __init__(self, *args, **kwargs):\n",
    "        super(BetterQuerySet, self).__init__(*args, **kwargs)\n",
    "        self._includes = {}\n",
    "        self._iterable_class = IncludeModelIterable\n",
    "\n",
    "    def include(self, *related_names):\n",
    "        clone = self._clone()\n",
    "        for related_name in related_names:\n",
    "            field = self.model._meta.get_field(related_name)\n",
    "            if field.many_to_one:\n",
    "                clone._includes[field] = ManyToOneIncluder('__garbage__' + field.name, field)\n",
    "            elif field.one_to_many:\n",
    "                clone._includes[field] = OneToManyIncluder('__garbage__' + field.name, field)\n",
    "        clone.__construct_extra()\n",
    "        return clone\n",
    "    \n",
    "    def __construct_extra(self):\n",
    "        for includer in self._includes.values():\n",
    "            self.query.add_extra(includer.extra_query(), None, None, None, None, None)\n",
    "            \n",
    "    def _clone(self):\n",
    "        clone = super(BetterQuerySet, self)._clone()\n",
    "        clone._includes = self._includes\n",
    "        return clone\n",
    "        \n",
    "IncludeManager = IncludeQuerySet.as_manager()\n",
    "IncludeManager.contribute_to_class(AbstractNode, 'bobjects')"
   ]
  },
  {
   "cell_type": "code",
   "execution_count": null,
   "metadata": {
    "collapsed": false
   },
   "outputs": [],
   "source": []
  },
  {
   "cell_type": "code",
   "execution_count": 228,
   "metadata": {
    "collapsed": false
   },
   "outputs": [
    {
     "name": "stdout",
     "output_type": "stream",
     "text": [
      "{<django.db.models.fields.related.ForeignKey: creator>: <__main__.ManyToOneIncluder object at 0x111103f50>}\n"
     ]
    },
    {
     "data": {
      "text/plain": [
       "[<Registration: Proj : (e6248)>,\n",
       " <Registration: a registration project : (e5w73)>,\n",
       " <Registration: Comp2 : (e5pkg)>,\n",
       " <Registration: Clouds : (e5gcm)>,\n",
       " <Registration: Comp3 : (e59xc)>]"
      ]
     },
     "execution_count": 228,
     "metadata": {},
     "output_type": "execute_result"
    }
   ],
   "source": [
    "list(AbstractNode.bobjects.all().include('creator')[:5])"
   ]
  },
  {
   "cell_type": "code",
   "execution_count": 242,
   "metadata": {
    "collapsed": false
   },
   "outputs": [
    {
     "name": "stdout",
     "output_type": "stream",
     "text": [
      "{<ManyToOneRel: osf.contributor>: <__main__.OneToManyIncluder object at 0x110f73550>}\n"
     ]
    },
    {
     "data": {
      "text/plain": [
       "[<Contributor(user=s.chrisinger@gmail.com, read=True, write=True, admin=True, visible=True)>]"
      ]
     },
     "execution_count": 242,
     "metadata": {},
     "output_type": "execute_result"
    }
   ],
   "source": [
    "AbstractNode.bobjects.all().include('contributor_set')[0].contributor_set.all()"
   ]
  },
  {
   "cell_type": "code",
   "execution_count": 230,
   "metadata": {
    "collapsed": false
   },
   "outputs": [
    {
     "name": "stdout",
     "output_type": "stream",
     "text": [
      "SELECT (\n",
      "        SELECT json_agg(json_build_array(\"__garbage__contributor_set\".\"id\", \"__garbage__contributor_set\".\"read\", \"__garbage__contributor_set\".\"write\", \"__garbage__contributor_set\".\"admin\", \"__garbage__contributor_set\".\"visible\", \"__garbage__contributor_set\".\"user_id\", \"__garbage__contributor_set\".\"node_id\", \"__garbage__contributor_set\".\"_order\"))\n",
      "        FROM \"osf_contributor\" AS \"__garbage__contributor_set\"\n",
      "        WHERE \"__garbage__contributor_set\".\"node_id\" = \"osf_abstractnode\".\"id\"\n",
      "        ) AS \"__garbage__contributor_set\", \"osf_abstractnode\".\"id\", \"osf_abstractnode\".\"guid_string\", \"osf_abstractnode\".\"content_type_pk\", \"osf_abstractnode\".\"type\", \"osf_abstractnode\".\"spam_status\", \"osf_abstractnode\".\"spam_pro_tip\", \"osf_abstractnode\".\"spam_data\", \"osf_abstractnode\".\"date_last_reported\", \"osf_abstractnode\".\"reports\", \"osf_abstractnode\".\"category\", \"osf_abstractnode\".\"child_node_subscriptions\", \"osf_abstractnode\".\"creator_id\", \"osf_abstractnode\".\"date_created\", \"osf_abstractnode\".\"date_modified\", \"osf_abstractnode\".\"deleted_date\", \"osf_abstractnode\".\"description\", \"osf_abstractnode\".\"file_guid_to_share_uuids\", \"osf_abstractnode\".\"forked_date\", \"osf_abstractnode\".\"forked_from_id\", \"osf_abstractnode\".\"is_fork\", \"osf_abstractnode\".\"is_public\", \"osf_abstractnode\".\"is_deleted\", \"osf_abstractnode\".\"node_license_id\", \"osf_abstractnode\".\"root_id\", \"osf_abstractnode\".\"piwik_site_id\", \"osf_abstractnode\".\"public_comments\", \"osf_abstractnode\".\"suspended\", \"osf_abstractnode\".\"template_node_id\", \"osf_abstractnode\".\"title\", \"osf_abstractnode\".\"wiki_pages_current\", \"osf_abstractnode\".\"wiki_pages_versions\", \"osf_abstractnode\".\"wiki_private_uuids\", \"osf_abstractnode\".\"preprint_file_id\", \"osf_abstractnode\".\"preprint_article_doi\", \"osf_abstractnode\".\"_is_preprint_orphan\", \"osf_abstractnode\".\"_has_abandoned_preprint\", \"osf_abstractnode\".\"keenio_read_key\", \"osf_abstractnode\".\"is_bookmark_collection\", \"osf_abstractnode\".\"registered_date\", \"osf_abstractnode\".\"registered_user_id\", \"osf_abstractnode\".\"registered_meta\", \"osf_abstractnode\".\"registered_from_id\", \"osf_abstractnode\".\"registration_approval_id\", \"osf_abstractnode\".\"retraction_id\", \"osf_abstractnode\".\"embargo_id\", \"osf_abstractnode\".\"embargo_termination_approval_id\" FROM \"osf_abstractnode\"\n"
     ]
    }
   ],
   "source": [
    "print(str(AbstractNode.bobjects.all().include('contributor_set__user').query))"
   ]
  },
  {
   "cell_type": "code",
   "execution_count": 231,
   "metadata": {
    "collapsed": false
   },
   "outputs": [
    {
     "name": "stdout",
     "output_type": "stream",
     "text": [
      "{<ManyToOneRel: osf.contributor>: <__main__.OneToManyIncluder object at 0x110f73cd0>}\n"
     ]
    },
    {
     "data": {
      "text/plain": [
       "{'_has_abandoned_preprint': False,\n",
       " '_is_preprint_orphan': False,\n",
       " '_is_templated_clone': False,\n",
       " '_original_state': {},\n",
       " '_parent': None,\n",
       " '_prefetched_objects_cache': {u'contributor_set': [<Contributor(user=s.chrisinger@gmail.com, read=True, write=True, admin=True, visible=True)>]},\n",
       " '_state': <django.db.models.base.ModelState at 0x109f77290>,\n",
       " 'category': u'project',\n",
       " 'child_node_subscriptions': {},\n",
       " 'content_type_pk': 27,\n",
       " 'creator_id': 97,\n",
       " 'date_created': datetime.datetime(2015, 7, 1, 15, 40, 23, 20000, tzinfo=<UTC>),\n",
       " 'date_last_reported': None,\n",
       " 'date_modified': datetime.datetime(2015, 7, 1, 15, 40, 23, 20000, tzinfo=<UTC>),\n",
       " 'deleted_date': None,\n",
       " 'description': u'',\n",
       " 'embargo_id': None,\n",
       " 'embargo_termination_approval_id': None,\n",
       " 'file_guid_to_share_uuids': {},\n",
       " 'forked_date': None,\n",
       " 'forked_from_id': None,\n",
       " 'guid_string': [u'e6248'],\n",
       " 'id': 156990,\n",
       " 'is_bookmark_collection': None,\n",
       " 'is_deleted': False,\n",
       " 'is_fork': False,\n",
       " 'is_public': True,\n",
       " 'keenio_read_key': u'befcd1e4b9cc7a10ac26d1668a50a7c865e66f933fc60597eca940502881766f0d0c9cfc05b2e62465a7bfa7e538272bcab3c01503e2051d118de490008ad451086678d100085b312743e80a4659e46a2e26548e5dc6a8e6402cc1f2669797c640e479e68972c25dc10ab7d8eae7159bd28fc84cc9a8a0eba62f4515476125a706083fa284923ad7fbd5115aa0ec4018',\n",
       " 'node_license_id': None,\n",
       " 'piwik_site_id': None,\n",
       " 'preprint_article_doi': None,\n",
       " 'preprint_file_id': None,\n",
       " 'public_comments': True,\n",
       " 'registered_date': datetime.datetime(2015, 7, 15, 20, 6, 4, 735000, tzinfo=<UTC>),\n",
       " 'registered_from_id': 55872,\n",
       " 'registered_meta': {u'564c9395029bdb0c2f4dd900': {u'embargoEndDate': {u'value': u'Wed%2C 15 Jul 2015 20%3A06%3A01 GMT'},\n",
       "   u'registrationChoice': {u'value': u'immediate'},\n",
       "   u'summary': {u'value': u''}}},\n",
       " 'registered_user_id': 97,\n",
       " 'registration_approval_id': None,\n",
       " 'reports': {},\n",
       " 'retraction_id': None,\n",
       " 'root_id': None,\n",
       " 'spam_data': {},\n",
       " 'spam_pro_tip': None,\n",
       " 'spam_status': None,\n",
       " 'suspended': False,\n",
       " 'template_node_id': None,\n",
       " 'title': u'Proj',\n",
       " 'type': u'osf.registration',\n",
       " 'wiki_pages_current': {},\n",
       " 'wiki_pages_versions': {},\n",
       " 'wiki_private_uuids': {}}"
      ]
     },
     "execution_count": 231,
     "metadata": {},
     "output_type": "execute_result"
    }
   ],
   "source": [
    "AbstractNode.bobjects.all().include('contributor_set')[0].__dict__"
   ]
  },
  {
   "cell_type": "code",
   "execution_count": 232,
   "metadata": {
    "collapsed": false
   },
   "outputs": [
    {
     "name": "stdout",
     "output_type": "stream",
     "text": [
      "{<django.contrib.contenttypes.fields.GenericRelation: guids>: <__main__.OneToManyIncluder object at 0x110f73110>}\n"
     ]
    },
    {
     "ename": "ProgrammingError",
     "evalue": "column osf_abstractnode.object_id does not exist\nLINE 4:         WHERE \"__garbage__guids\".\"id\" = \"osf_abstractnode\".\"...\n                                                ^\n",
     "output_type": "error",
     "traceback": [
      "\u001b[0;31m---------------------------------------------------------------------------\u001b[0m",
      "\u001b[0;31mProgrammingError\u001b[0m                          Traceback (most recent call last)",
      "\u001b[0;32m<ipython-input-232-99060ab7e317>\u001b[0m in \u001b[0;36m<module>\u001b[0;34m()\u001b[0m\n\u001b[0;32m----> 1\u001b[0;31m \u001b[0mAbstractNode\u001b[0m\u001b[0;34m.\u001b[0m\u001b[0mbobjects\u001b[0m\u001b[0;34m.\u001b[0m\u001b[0mall\u001b[0m\u001b[0;34m(\u001b[0m\u001b[0;34m)\u001b[0m\u001b[0;34m.\u001b[0m\u001b[0minclude\u001b[0m\u001b[0;34m(\u001b[0m\u001b[0;34m'guids'\u001b[0m\u001b[0;34m)\u001b[0m\u001b[0;34m[\u001b[0m\u001b[0;36m0\u001b[0m\u001b[0;34m]\u001b[0m\u001b[0;34m.\u001b[0m\u001b[0m__dict__\u001b[0m\u001b[0;34m\u001b[0m\u001b[0m\n\u001b[0m",
      "\u001b[0;32m/Users/chrisseto/.pyenv/versions/osf/lib/python2.7/site-packages/django/db/models/query.pyc\u001b[0m in \u001b[0;36m__getitem__\u001b[0;34m(self, k)\u001b[0m\n\u001b[1;32m    295\u001b[0m         \u001b[0mqs\u001b[0m \u001b[0;34m=\u001b[0m \u001b[0mself\u001b[0m\u001b[0;34m.\u001b[0m\u001b[0m_clone\u001b[0m\u001b[0;34m(\u001b[0m\u001b[0;34m)\u001b[0m\u001b[0;34m\u001b[0m\u001b[0m\n\u001b[1;32m    296\u001b[0m         \u001b[0mqs\u001b[0m\u001b[0;34m.\u001b[0m\u001b[0mquery\u001b[0m\u001b[0;34m.\u001b[0m\u001b[0mset_limits\u001b[0m\u001b[0;34m(\u001b[0m\u001b[0mk\u001b[0m\u001b[0;34m,\u001b[0m \u001b[0mk\u001b[0m \u001b[0;34m+\u001b[0m \u001b[0;36m1\u001b[0m\u001b[0;34m)\u001b[0m\u001b[0;34m\u001b[0m\u001b[0m\n\u001b[0;32m--> 297\u001b[0;31m         \u001b[0;32mreturn\u001b[0m \u001b[0mlist\u001b[0m\u001b[0;34m(\u001b[0m\u001b[0mqs\u001b[0m\u001b[0;34m)\u001b[0m\u001b[0;34m[\u001b[0m\u001b[0;36m0\u001b[0m\u001b[0;34m]\u001b[0m\u001b[0;34m\u001b[0m\u001b[0m\n\u001b[0m\u001b[1;32m    298\u001b[0m \u001b[0;34m\u001b[0m\u001b[0m\n\u001b[1;32m    299\u001b[0m     \u001b[0;32mdef\u001b[0m \u001b[0m__and__\u001b[0m\u001b[0;34m(\u001b[0m\u001b[0mself\u001b[0m\u001b[0;34m,\u001b[0m \u001b[0mother\u001b[0m\u001b[0;34m)\u001b[0m\u001b[0;34m:\u001b[0m\u001b[0;34m\u001b[0m\u001b[0m\n",
      "\u001b[0;32m/Users/chrisseto/.pyenv/versions/osf/lib/python2.7/site-packages/django/db/models/query.pyc\u001b[0m in \u001b[0;36m__iter__\u001b[0;34m(self)\u001b[0m\n\u001b[1;32m    256\u001b[0m                \u001b[0;34m-\u001b[0m \u001b[0mResponsible\u001b[0m \u001b[0;32mfor\u001b[0m \u001b[0mturning\u001b[0m \u001b[0mthe\u001b[0m \u001b[0mrows\u001b[0m \u001b[0minto\u001b[0m \u001b[0mmodel\u001b[0m \u001b[0mobjects\u001b[0m\u001b[0;34m.\u001b[0m\u001b[0;34m\u001b[0m\u001b[0m\n\u001b[1;32m    257\u001b[0m         \"\"\"\n\u001b[0;32m--> 258\u001b[0;31m         \u001b[0mself\u001b[0m\u001b[0;34m.\u001b[0m\u001b[0m_fetch_all\u001b[0m\u001b[0;34m(\u001b[0m\u001b[0;34m)\u001b[0m\u001b[0;34m\u001b[0m\u001b[0m\n\u001b[0m\u001b[1;32m    259\u001b[0m         \u001b[0;32mreturn\u001b[0m \u001b[0miter\u001b[0m\u001b[0;34m(\u001b[0m\u001b[0mself\u001b[0m\u001b[0;34m.\u001b[0m\u001b[0m_result_cache\u001b[0m\u001b[0;34m)\u001b[0m\u001b[0;34m\u001b[0m\u001b[0m\n\u001b[1;32m    260\u001b[0m \u001b[0;34m\u001b[0m\u001b[0m\n",
      "\u001b[0;32m/Users/chrisseto/.pyenv/versions/osf/lib/python2.7/site-packages/django/db/models/query.pyc\u001b[0m in \u001b[0;36m_fetch_all\u001b[0;34m(self)\u001b[0m\n\u001b[1;32m   1072\u001b[0m     \u001b[0;32mdef\u001b[0m \u001b[0m_fetch_all\u001b[0m\u001b[0;34m(\u001b[0m\u001b[0mself\u001b[0m\u001b[0;34m)\u001b[0m\u001b[0;34m:\u001b[0m\u001b[0;34m\u001b[0m\u001b[0m\n\u001b[1;32m   1073\u001b[0m         \u001b[0;32mif\u001b[0m \u001b[0mself\u001b[0m\u001b[0;34m.\u001b[0m\u001b[0m_result_cache\u001b[0m \u001b[0;32mis\u001b[0m \u001b[0mNone\u001b[0m\u001b[0;34m:\u001b[0m\u001b[0;34m\u001b[0m\u001b[0m\n\u001b[0;32m-> 1074\u001b[0;31m             \u001b[0mself\u001b[0m\u001b[0;34m.\u001b[0m\u001b[0m_result_cache\u001b[0m \u001b[0;34m=\u001b[0m \u001b[0mlist\u001b[0m\u001b[0;34m(\u001b[0m\u001b[0mself\u001b[0m\u001b[0;34m.\u001b[0m\u001b[0miterator\u001b[0m\u001b[0;34m(\u001b[0m\u001b[0;34m)\u001b[0m\u001b[0;34m)\u001b[0m\u001b[0;34m\u001b[0m\u001b[0m\n\u001b[0m\u001b[1;32m   1075\u001b[0m         \u001b[0;32mif\u001b[0m \u001b[0mself\u001b[0m\u001b[0;34m.\u001b[0m\u001b[0m_prefetch_related_lookups\u001b[0m \u001b[0;32mand\u001b[0m \u001b[0;32mnot\u001b[0m \u001b[0mself\u001b[0m\u001b[0;34m.\u001b[0m\u001b[0m_prefetch_done\u001b[0m\u001b[0;34m:\u001b[0m\u001b[0;34m\u001b[0m\u001b[0m\n\u001b[1;32m   1076\u001b[0m             \u001b[0mself\u001b[0m\u001b[0;34m.\u001b[0m\u001b[0m_prefetch_related_objects\u001b[0m\u001b[0;34m(\u001b[0m\u001b[0;34m)\u001b[0m\u001b[0;34m\u001b[0m\u001b[0m\n",
      "\u001b[0;32m<ipython-input-227-8f31dcc6c234>\u001b[0m in \u001b[0;36m__iter__\u001b[0;34m(self)\u001b[0m\n\u001b[1;32m      7\u001b[0m     \u001b[0;32mdef\u001b[0m \u001b[0m__iter__\u001b[0m\u001b[0;34m(\u001b[0m\u001b[0mself\u001b[0m\u001b[0;34m)\u001b[0m\u001b[0;34m:\u001b[0m\u001b[0;34m\u001b[0m\u001b[0m\n\u001b[1;32m      8\u001b[0m         \u001b[0;32mprint\u001b[0m\u001b[0;34m(\u001b[0m\u001b[0mself\u001b[0m\u001b[0;34m.\u001b[0m\u001b[0mqueryset\u001b[0m\u001b[0;34m.\u001b[0m\u001b[0m_includes\u001b[0m\u001b[0;34m)\u001b[0m\u001b[0;34m\u001b[0m\u001b[0m\n\u001b[0;32m----> 9\u001b[0;31m         \u001b[0;32mfor\u001b[0m \u001b[0minstance\u001b[0m \u001b[0;32min\u001b[0m \u001b[0msuper\u001b[0m\u001b[0;34m(\u001b[0m\u001b[0mIncludeModelIterable\u001b[0m\u001b[0;34m,\u001b[0m \u001b[0mself\u001b[0m\u001b[0;34m)\u001b[0m\u001b[0;34m.\u001b[0m\u001b[0m__iter__\u001b[0m\u001b[0;34m(\u001b[0m\u001b[0;34m)\u001b[0m\u001b[0;34m:\u001b[0m\u001b[0;34m\u001b[0m\u001b[0m\n\u001b[0m\u001b[1;32m     10\u001b[0m             \u001b[0;32mfor\u001b[0m \u001b[0mincluder\u001b[0m \u001b[0;32min\u001b[0m \u001b[0mself\u001b[0m\u001b[0;34m.\u001b[0m\u001b[0mqueryset\u001b[0m\u001b[0;34m.\u001b[0m\u001b[0m_includes\u001b[0m\u001b[0;34m.\u001b[0m\u001b[0mvalues\u001b[0m\u001b[0;34m(\u001b[0m\u001b[0;34m)\u001b[0m\u001b[0;34m:\u001b[0m\u001b[0;34m\u001b[0m\u001b[0m\n\u001b[1;32m     11\u001b[0m                 \u001b[0mincluder\u001b[0m\u001b[0;34m.\u001b[0m\u001b[0mextract\u001b[0m\u001b[0;34m(\u001b[0m\u001b[0minstance\u001b[0m\u001b[0;34m)\u001b[0m\u001b[0;34m\u001b[0m\u001b[0m\n",
      "\u001b[0;32m/Users/chrisseto/.pyenv/versions/osf/lib/python2.7/site-packages/django/db/models/query.pyc\u001b[0m in \u001b[0;36m__iter__\u001b[0;34m(self)\u001b[0m\n\u001b[1;32m     50\u001b[0m         \u001b[0;31m# Execute the query. This will also fill compiler.select, klass_info,\u001b[0m\u001b[0;34m\u001b[0m\u001b[0;34m\u001b[0m\u001b[0m\n\u001b[1;32m     51\u001b[0m         \u001b[0;31m# and annotations.\u001b[0m\u001b[0;34m\u001b[0m\u001b[0;34m\u001b[0m\u001b[0m\n\u001b[0;32m---> 52\u001b[0;31m         \u001b[0mresults\u001b[0m \u001b[0;34m=\u001b[0m \u001b[0mcompiler\u001b[0m\u001b[0;34m.\u001b[0m\u001b[0mexecute_sql\u001b[0m\u001b[0;34m(\u001b[0m\u001b[0;34m)\u001b[0m\u001b[0;34m\u001b[0m\u001b[0m\n\u001b[0m\u001b[1;32m     53\u001b[0m         select, klass_info, annotation_col_map = (compiler.select, compiler.klass_info,\n\u001b[1;32m     54\u001b[0m                                                   compiler.annotation_col_map)\n",
      "\u001b[0;32m/Users/chrisseto/.pyenv/versions/osf/lib/python2.7/site-packages/django/db/models/sql/compiler.pyc\u001b[0m in \u001b[0;36mexecute_sql\u001b[0;34m(self, result_type)\u001b[0m\n\u001b[1;32m    850\u001b[0m         \u001b[0mcursor\u001b[0m \u001b[0;34m=\u001b[0m \u001b[0mself\u001b[0m\u001b[0;34m.\u001b[0m\u001b[0mconnection\u001b[0m\u001b[0;34m.\u001b[0m\u001b[0mcursor\u001b[0m\u001b[0;34m(\u001b[0m\u001b[0;34m)\u001b[0m\u001b[0;34m\u001b[0m\u001b[0m\n\u001b[1;32m    851\u001b[0m         \u001b[0;32mtry\u001b[0m\u001b[0;34m:\u001b[0m\u001b[0;34m\u001b[0m\u001b[0m\n\u001b[0;32m--> 852\u001b[0;31m             \u001b[0mcursor\u001b[0m\u001b[0;34m.\u001b[0m\u001b[0mexecute\u001b[0m\u001b[0;34m(\u001b[0m\u001b[0msql\u001b[0m\u001b[0;34m,\u001b[0m \u001b[0mparams\u001b[0m\u001b[0;34m)\u001b[0m\u001b[0;34m\u001b[0m\u001b[0m\n\u001b[0m\u001b[1;32m    853\u001b[0m         \u001b[0;32mexcept\u001b[0m \u001b[0mException\u001b[0m\u001b[0;34m:\u001b[0m\u001b[0;34m\u001b[0m\u001b[0m\n\u001b[1;32m    854\u001b[0m             \u001b[0mcursor\u001b[0m\u001b[0;34m.\u001b[0m\u001b[0mclose\u001b[0m\u001b[0;34m(\u001b[0m\u001b[0;34m)\u001b[0m\u001b[0;34m\u001b[0m\u001b[0m\n",
      "\u001b[0;32m/Users/chrisseto/.pyenv/versions/osf/lib/python2.7/site-packages/django/db/backends/utils.pyc\u001b[0m in \u001b[0;36mexecute\u001b[0;34m(self, sql, params)\u001b[0m\n\u001b[1;32m     77\u001b[0m         \u001b[0mstart\u001b[0m \u001b[0;34m=\u001b[0m \u001b[0mtime\u001b[0m\u001b[0;34m(\u001b[0m\u001b[0;34m)\u001b[0m\u001b[0;34m\u001b[0m\u001b[0m\n\u001b[1;32m     78\u001b[0m         \u001b[0;32mtry\u001b[0m\u001b[0;34m:\u001b[0m\u001b[0;34m\u001b[0m\u001b[0m\n\u001b[0;32m---> 79\u001b[0;31m             \u001b[0;32mreturn\u001b[0m \u001b[0msuper\u001b[0m\u001b[0;34m(\u001b[0m\u001b[0mCursorDebugWrapper\u001b[0m\u001b[0;34m,\u001b[0m \u001b[0mself\u001b[0m\u001b[0;34m)\u001b[0m\u001b[0;34m.\u001b[0m\u001b[0mexecute\u001b[0m\u001b[0;34m(\u001b[0m\u001b[0msql\u001b[0m\u001b[0;34m,\u001b[0m \u001b[0mparams\u001b[0m\u001b[0;34m)\u001b[0m\u001b[0;34m\u001b[0m\u001b[0m\n\u001b[0m\u001b[1;32m     80\u001b[0m         \u001b[0;32mfinally\u001b[0m\u001b[0;34m:\u001b[0m\u001b[0;34m\u001b[0m\u001b[0m\n\u001b[1;32m     81\u001b[0m             \u001b[0mstop\u001b[0m \u001b[0;34m=\u001b[0m \u001b[0mtime\u001b[0m\u001b[0;34m(\u001b[0m\u001b[0;34m)\u001b[0m\u001b[0;34m\u001b[0m\u001b[0m\n",
      "\u001b[0;32m/Users/chrisseto/.pyenv/versions/osf/lib/python2.7/site-packages/django/db/backends/utils.pyc\u001b[0m in \u001b[0;36mexecute\u001b[0;34m(self, sql, params)\u001b[0m\n\u001b[1;32m     62\u001b[0m                 \u001b[0;32mreturn\u001b[0m \u001b[0mself\u001b[0m\u001b[0;34m.\u001b[0m\u001b[0mcursor\u001b[0m\u001b[0;34m.\u001b[0m\u001b[0mexecute\u001b[0m\u001b[0;34m(\u001b[0m\u001b[0msql\u001b[0m\u001b[0;34m)\u001b[0m\u001b[0;34m\u001b[0m\u001b[0m\n\u001b[1;32m     63\u001b[0m             \u001b[0;32melse\u001b[0m\u001b[0;34m:\u001b[0m\u001b[0;34m\u001b[0m\u001b[0m\n\u001b[0;32m---> 64\u001b[0;31m                 \u001b[0;32mreturn\u001b[0m \u001b[0mself\u001b[0m\u001b[0;34m.\u001b[0m\u001b[0mcursor\u001b[0m\u001b[0;34m.\u001b[0m\u001b[0mexecute\u001b[0m\u001b[0;34m(\u001b[0m\u001b[0msql\u001b[0m\u001b[0;34m,\u001b[0m \u001b[0mparams\u001b[0m\u001b[0;34m)\u001b[0m\u001b[0;34m\u001b[0m\u001b[0m\n\u001b[0m\u001b[1;32m     65\u001b[0m \u001b[0;34m\u001b[0m\u001b[0m\n\u001b[1;32m     66\u001b[0m     \u001b[0;32mdef\u001b[0m \u001b[0mexecutemany\u001b[0m\u001b[0;34m(\u001b[0m\u001b[0mself\u001b[0m\u001b[0;34m,\u001b[0m \u001b[0msql\u001b[0m\u001b[0;34m,\u001b[0m \u001b[0mparam_list\u001b[0m\u001b[0;34m)\u001b[0m\u001b[0;34m:\u001b[0m\u001b[0;34m\u001b[0m\u001b[0m\n",
      "\u001b[0;32m/Users/chrisseto/.pyenv/versions/osf/lib/python2.7/site-packages/django/db/utils.pyc\u001b[0m in \u001b[0;36m__exit__\u001b[0;34m(self, exc_type, exc_value, traceback)\u001b[0m\n\u001b[1;32m     93\u001b[0m                 \u001b[0;32mif\u001b[0m \u001b[0mdj_exc_type\u001b[0m \u001b[0;32mnot\u001b[0m \u001b[0;32min\u001b[0m \u001b[0;34m(\u001b[0m\u001b[0mDataError\u001b[0m\u001b[0;34m,\u001b[0m \u001b[0mIntegrityError\u001b[0m\u001b[0;34m)\u001b[0m\u001b[0;34m:\u001b[0m\u001b[0;34m\u001b[0m\u001b[0m\n\u001b[1;32m     94\u001b[0m                     \u001b[0mself\u001b[0m\u001b[0;34m.\u001b[0m\u001b[0mwrapper\u001b[0m\u001b[0;34m.\u001b[0m\u001b[0merrors_occurred\u001b[0m \u001b[0;34m=\u001b[0m \u001b[0mTrue\u001b[0m\u001b[0;34m\u001b[0m\u001b[0m\n\u001b[0;32m---> 95\u001b[0;31m                 \u001b[0msix\u001b[0m\u001b[0;34m.\u001b[0m\u001b[0mreraise\u001b[0m\u001b[0;34m(\u001b[0m\u001b[0mdj_exc_type\u001b[0m\u001b[0;34m,\u001b[0m \u001b[0mdj_exc_value\u001b[0m\u001b[0;34m,\u001b[0m \u001b[0mtraceback\u001b[0m\u001b[0;34m)\u001b[0m\u001b[0;34m\u001b[0m\u001b[0m\n\u001b[0m\u001b[1;32m     96\u001b[0m \u001b[0;34m\u001b[0m\u001b[0m\n\u001b[1;32m     97\u001b[0m     \u001b[0;32mdef\u001b[0m \u001b[0m__call__\u001b[0m\u001b[0;34m(\u001b[0m\u001b[0mself\u001b[0m\u001b[0;34m,\u001b[0m \u001b[0mfunc\u001b[0m\u001b[0;34m)\u001b[0m\u001b[0;34m:\u001b[0m\u001b[0;34m\u001b[0m\u001b[0m\n",
      "\u001b[0;32m/Users/chrisseto/.pyenv/versions/osf/lib/python2.7/site-packages/django/db/backends/utils.pyc\u001b[0m in \u001b[0;36mexecute\u001b[0;34m(self, sql, params)\u001b[0m\n\u001b[1;32m     62\u001b[0m                 \u001b[0;32mreturn\u001b[0m \u001b[0mself\u001b[0m\u001b[0;34m.\u001b[0m\u001b[0mcursor\u001b[0m\u001b[0;34m.\u001b[0m\u001b[0mexecute\u001b[0m\u001b[0;34m(\u001b[0m\u001b[0msql\u001b[0m\u001b[0;34m)\u001b[0m\u001b[0;34m\u001b[0m\u001b[0m\n\u001b[1;32m     63\u001b[0m             \u001b[0;32melse\u001b[0m\u001b[0;34m:\u001b[0m\u001b[0;34m\u001b[0m\u001b[0m\n\u001b[0;32m---> 64\u001b[0;31m                 \u001b[0;32mreturn\u001b[0m \u001b[0mself\u001b[0m\u001b[0;34m.\u001b[0m\u001b[0mcursor\u001b[0m\u001b[0;34m.\u001b[0m\u001b[0mexecute\u001b[0m\u001b[0;34m(\u001b[0m\u001b[0msql\u001b[0m\u001b[0;34m,\u001b[0m \u001b[0mparams\u001b[0m\u001b[0;34m)\u001b[0m\u001b[0;34m\u001b[0m\u001b[0m\n\u001b[0m\u001b[1;32m     65\u001b[0m \u001b[0;34m\u001b[0m\u001b[0m\n\u001b[1;32m     66\u001b[0m     \u001b[0;32mdef\u001b[0m \u001b[0mexecutemany\u001b[0m\u001b[0;34m(\u001b[0m\u001b[0mself\u001b[0m\u001b[0;34m,\u001b[0m \u001b[0msql\u001b[0m\u001b[0;34m,\u001b[0m \u001b[0mparam_list\u001b[0m\u001b[0;34m)\u001b[0m\u001b[0;34m:\u001b[0m\u001b[0;34m\u001b[0m\u001b[0m\n",
      "\u001b[0;31mProgrammingError\u001b[0m: column osf_abstractnode.object_id does not exist\nLINE 4:         WHERE \"__garbage__guids\".\"id\" = \"osf_abstractnode\".\"...\n                                                ^\n"
     ]
    }
   ],
   "source": [
    "AbstractNode.bobjects.all().include('guids')[0].__dict__"
   ]
  },
  {
   "cell_type": "code",
   "execution_count": 122,
   "metadata": {
    "collapsed": false
   },
   "outputs": [
    {
     "data": {
      "text/plain": [
       "osf.models.user.OSFUser"
      ]
     },
     "execution_count": 122,
     "metadata": {},
     "output_type": "execute_result"
    }
   ],
   "source": [
    "x.related_model"
   ]
  },
  {
   "cell_type": "code",
   "execution_count": 184,
   "metadata": {
    "collapsed": false
   },
   "outputs": [
    {
     "data": {
      "text/plain": [
       "True"
      ]
     },
     "execution_count": 184,
     "metadata": {},
     "output_type": "execute_result"
    }
   ],
   "source": [
    "x.many_to_one"
   ]
  },
  {
   "cell_type": "code",
   "execution_count": 240,
   "metadata": {
    "collapsed": false
   },
   "outputs": [
    {
     "data": {
      "text/plain": [
       "{'field': <django.db.models.fields.related.ForeignKey: node>,\n",
       " 'field_name': u'id',\n",
       " 'hidden': False,\n",
       " 'limit_choices_to': {},\n",
       " 'many_to_one': False,\n",
       " 'model': osf.models.node.AbstractNode,\n",
       " 'multiple': True,\n",
       " 'name': u'contributor_set',\n",
       " 'on_delete': <function django.db.models.deletion.CASCADE>,\n",
       " 'one_to_many': True,\n",
       " 'parent_link': False,\n",
       " 'related_model': osf.models.contributor.Contributor,\n",
       " 'related_name': u'contributor_set',\n",
       " 'related_query_name': None,\n",
       " 'symmetrical': False}"
      ]
     },
     "execution_count": 240,
     "metadata": {},
     "output_type": "execute_result"
    }
   ],
   "source": [
    "AbstractNode._meta.get_field('contributor_set').__dict__"
   ]
  },
  {
   "cell_type": "code",
   "execution_count": 244,
   "metadata": {
    "collapsed": false
   },
   "outputs": [],
   "source": [
    "field = AbstractNode._meta.get_field('_contributors')"
   ]
  },
  {
   "cell_type": "code",
   "execution_count": 245,
   "metadata": {
    "collapsed": false
   },
   "outputs": [
    {
     "data": {
      "text/plain": [
       "{'_error_messages': None,\n",
       " '_unique': False,\n",
       " '_validators': [],\n",
       " '_verbose_name': None,\n",
       " 'attname': '_contributors',\n",
       " 'auto_created': False,\n",
       " 'blank': False,\n",
       " 'choices': [],\n",
       " 'column': '_contributors',\n",
       " 'concrete': True,\n",
       " 'creation_counter': 201,\n",
       " 'db_column': None,\n",
       " 'db_index': False,\n",
       " 'db_table': None,\n",
       " 'db_tablespace': '',\n",
       " 'default': <class django.db.models.fields.NOT_PROVIDED at 0x10c5ac600>,\n",
       " 'editable': True,\n",
       " 'error_messages': {u'blank': <django.utils.functional.__proxy__ at 0x10c5b5ed0>,\n",
       "  u'invalid_choice': <django.utils.functional.__proxy__ at 0x10c5a8b50>,\n",
       "  u'null': <django.utils.functional.__proxy__ at 0x10c5b5e90>,\n",
       "  u'unique': <django.utils.functional.__proxy__ at 0x10c5b5f10>,\n",
       "  u'unique_for_date': <django.utils.functional.__proxy__ at 0x10c5b5f50>},\n",
       " 'has_null_arg': False,\n",
       " 'help_text': u'',\n",
       " 'is_relation': True,\n",
       " 'm2m_column_name': <function django.utils.functional._curried>,\n",
       " 'm2m_db_table': <function django.utils.functional._curried>,\n",
       " 'm2m_field_name': <function django.utils.functional._curried>,\n",
       " 'm2m_reverse_field_name': <function django.utils.functional._curried>,\n",
       " 'm2m_reverse_name': <function django.utils.functional._curried>,\n",
       " 'm2m_reverse_target_field_name': <function django.db.models.fields.related.<lambda>>,\n",
       " 'm2m_target_field_name': <function django.db.models.fields.related.<lambda>>,\n",
       " 'max_length': None,\n",
       " 'model': osf.models.node.AbstractNode,\n",
       " 'name': '_contributors',\n",
       " 'null': False,\n",
       " 'opts': <Options for AbstractNode>,\n",
       " 'primary_key': False,\n",
       " 'related_model': osf.models.user.OSFUser,\n",
       " 'remote_field': <ManyToManyRel: osf.abstractnode>,\n",
       " 'serialize': True,\n",
       " 'swappable': True,\n",
       " 'unique_for_date': None,\n",
       " 'unique_for_month': None,\n",
       " 'unique_for_year': None,\n",
       " 'verbose_name': u' contributors'}"
      ]
     },
     "execution_count": 245,
     "metadata": {},
     "output_type": "execute_result"
    }
   ],
   "source": [
    "field.__dict__"
   ]
  },
  {
   "cell_type": "code",
   "execution_count": 239,
   "metadata": {
    "collapsed": false
   },
   "outputs": [
    {
     "data": {
      "text/plain": [
       "(('object_id', u'id'),)"
      ]
     },
     "execution_count": 239,
     "metadata": {},
     "output_type": "execute_result"
    }
   ],
   "source": [
    "field.get_joining_columns()"
   ]
  },
  {
   "cell_type": "code",
   "execution_count": 257,
   "metadata": {
    "collapsed": false
   },
   "outputs": [
    {
     "ename": "AttributeError",
     "evalue": "'str' object has no attribute 'as_sql'",
     "output_type": "error",
     "traceback": [
      "\u001b[0;31m---------------------------------------------------------------------------\u001b[0m",
      "\u001b[0;31mAttributeError\u001b[0m                            Traceback (most recent call last)",
      "\u001b[0;32m<ipython-input-257-e3e2ca1f00e0>\u001b[0m in \u001b[0;36m<module>\u001b[0;34m()\u001b[0m\n\u001b[1;32m      1\u001b[0m \u001b[0mq\u001b[0m \u001b[0;34m=\u001b[0m \u001b[0mQuery\u001b[0m\u001b[0;34m(\u001b[0m\u001b[0mContributor\u001b[0m\u001b[0;34m)\u001b[0m\u001b[0;34m\u001b[0m\u001b[0m\n\u001b[1;32m      2\u001b[0m \u001b[0mq\u001b[0m\u001b[0;34m.\u001b[0m\u001b[0mset_select\u001b[0m\u001b[0;34m(\u001b[0m\u001b[0;34m'id'\u001b[0m\u001b[0;34m)\u001b[0m\u001b[0;34m\u001b[0m\u001b[0m\n\u001b[0;32m----> 3\u001b[0;31m \u001b[0mq\u001b[0m\u001b[0;34m.\u001b[0m\u001b[0msql_with_params\u001b[0m\u001b[0;34m(\u001b[0m\u001b[0;34m)\u001b[0m\u001b[0;34m\u001b[0m\u001b[0m\n\u001b[0m",
      "\u001b[0;32m/Users/chrisseto/.pyenv/versions/osf/lib/python2.7/site-packages/django/db/models/sql/query.pyc\u001b[0m in \u001b[0;36msql_with_params\u001b[0;34m(self)\u001b[0m\n\u001b[1;32m    238\u001b[0m         \u001b[0msubstituted\u001b[0m \u001b[0minto\u001b[0m \u001b[0mthe\u001b[0m \u001b[0mquery\u001b[0m\u001b[0;34m.\u001b[0m\u001b[0;34m\u001b[0m\u001b[0m\n\u001b[1;32m    239\u001b[0m         \"\"\"\n\u001b[0;32m--> 240\u001b[0;31m         \u001b[0;32mreturn\u001b[0m \u001b[0mself\u001b[0m\u001b[0;34m.\u001b[0m\u001b[0mget_compiler\u001b[0m\u001b[0;34m(\u001b[0m\u001b[0mDEFAULT_DB_ALIAS\u001b[0m\u001b[0;34m)\u001b[0m\u001b[0;34m.\u001b[0m\u001b[0mas_sql\u001b[0m\u001b[0;34m(\u001b[0m\u001b[0;34m)\u001b[0m\u001b[0;34m\u001b[0m\u001b[0m\n\u001b[0m\u001b[1;32m    241\u001b[0m \u001b[0;34m\u001b[0m\u001b[0m\n\u001b[1;32m    242\u001b[0m     \u001b[0;32mdef\u001b[0m \u001b[0m__deepcopy__\u001b[0m\u001b[0;34m(\u001b[0m\u001b[0mself\u001b[0m\u001b[0;34m,\u001b[0m \u001b[0mmemo\u001b[0m\u001b[0;34m)\u001b[0m\u001b[0;34m:\u001b[0m\u001b[0;34m\u001b[0m\u001b[0m\n",
      "\u001b[0;32m/Users/chrisseto/.pyenv/versions/osf/lib/python2.7/site-packages/django/db/models/sql/compiler.pyc\u001b[0m in \u001b[0;36mas_sql\u001b[0;34m(self, with_limits, with_col_aliases, subquery)\u001b[0m\n\u001b[1;32m    382\u001b[0m         \u001b[0mrefcounts_before\u001b[0m \u001b[0;34m=\u001b[0m \u001b[0mself\u001b[0m\u001b[0;34m.\u001b[0m\u001b[0mquery\u001b[0m\u001b[0;34m.\u001b[0m\u001b[0malias_refcount\u001b[0m\u001b[0;34m.\u001b[0m\u001b[0mcopy\u001b[0m\u001b[0;34m(\u001b[0m\u001b[0;34m)\u001b[0m\u001b[0;34m\u001b[0m\u001b[0m\n\u001b[1;32m    383\u001b[0m         \u001b[0;32mtry\u001b[0m\u001b[0;34m:\u001b[0m\u001b[0;34m\u001b[0m\u001b[0m\n\u001b[0;32m--> 384\u001b[0;31m             \u001b[0mextra_select\u001b[0m\u001b[0;34m,\u001b[0m \u001b[0morder_by\u001b[0m\u001b[0;34m,\u001b[0m \u001b[0mgroup_by\u001b[0m \u001b[0;34m=\u001b[0m \u001b[0mself\u001b[0m\u001b[0;34m.\u001b[0m\u001b[0mpre_sql_setup\u001b[0m\u001b[0;34m(\u001b[0m\u001b[0;34m)\u001b[0m\u001b[0;34m\u001b[0m\u001b[0m\n\u001b[0m\u001b[1;32m    385\u001b[0m             \u001b[0;32mif\u001b[0m \u001b[0mwith_limits\u001b[0m \u001b[0;32mand\u001b[0m \u001b[0mself\u001b[0m\u001b[0;34m.\u001b[0m\u001b[0mquery\u001b[0m\u001b[0;34m.\u001b[0m\u001b[0mlow_mark\u001b[0m \u001b[0;34m==\u001b[0m \u001b[0mself\u001b[0m\u001b[0;34m.\u001b[0m\u001b[0mquery\u001b[0m\u001b[0;34m.\u001b[0m\u001b[0mhigh_mark\u001b[0m\u001b[0;34m:\u001b[0m\u001b[0;34m\u001b[0m\u001b[0m\n\u001b[1;32m    386\u001b[0m                 \u001b[0;32mreturn\u001b[0m \u001b[0;34m''\u001b[0m\u001b[0;34m,\u001b[0m \u001b[0;34m(\u001b[0m\u001b[0;34m)\u001b[0m\u001b[0;34m\u001b[0m\u001b[0m\n",
      "\u001b[0;32m/Users/chrisseto/.pyenv/versions/osf/lib/python2.7/site-packages/django/db/models/sql/compiler.pyc\u001b[0m in \u001b[0;36mpre_sql_setup\u001b[0;34m(self)\u001b[0m\n\u001b[1;32m     46\u001b[0m         \u001b[0mmight\u001b[0m \u001b[0;32mnot\u001b[0m \u001b[0mhave\u001b[0m \u001b[0mall\u001b[0m \u001b[0mthe\u001b[0m \u001b[0mpieces\u001b[0m \u001b[0;32min\u001b[0m \u001b[0mplace\u001b[0m \u001b[0mat\u001b[0m \u001b[0mthat\u001b[0m \u001b[0mtime\u001b[0m\u001b[0;34m.\u001b[0m\u001b[0;34m\u001b[0m\u001b[0m\n\u001b[1;32m     47\u001b[0m         \"\"\"\n\u001b[0;32m---> 48\u001b[0;31m         \u001b[0mself\u001b[0m\u001b[0;34m.\u001b[0m\u001b[0msetup_query\u001b[0m\u001b[0;34m(\u001b[0m\u001b[0;34m)\u001b[0m\u001b[0;34m\u001b[0m\u001b[0m\n\u001b[0m\u001b[1;32m     49\u001b[0m         \u001b[0morder_by\u001b[0m \u001b[0;34m=\u001b[0m \u001b[0mself\u001b[0m\u001b[0;34m.\u001b[0m\u001b[0mget_order_by\u001b[0m\u001b[0;34m(\u001b[0m\u001b[0;34m)\u001b[0m\u001b[0;34m\u001b[0m\u001b[0m\n\u001b[1;32m     50\u001b[0m         \u001b[0mself\u001b[0m\u001b[0;34m.\u001b[0m\u001b[0mwhere\u001b[0m\u001b[0;34m,\u001b[0m \u001b[0mself\u001b[0m\u001b[0;34m.\u001b[0m\u001b[0mhaving\u001b[0m \u001b[0;34m=\u001b[0m \u001b[0mself\u001b[0m\u001b[0;34m.\u001b[0m\u001b[0mquery\u001b[0m\u001b[0;34m.\u001b[0m\u001b[0mwhere\u001b[0m\u001b[0;34m.\u001b[0m\u001b[0msplit_having\u001b[0m\u001b[0;34m(\u001b[0m\u001b[0;34m)\u001b[0m\u001b[0;34m\u001b[0m\u001b[0m\n",
      "\u001b[0;32m/Users/chrisseto/.pyenv/versions/osf/lib/python2.7/site-packages/django/db/models/sql/compiler.pyc\u001b[0m in \u001b[0;36msetup_query\u001b[0;34m(self)\u001b[0m\n\u001b[1;32m     37\u001b[0m         \u001b[0;32mif\u001b[0m \u001b[0mall\u001b[0m\u001b[0;34m(\u001b[0m\u001b[0mself\u001b[0m\u001b[0;34m.\u001b[0m\u001b[0mquery\u001b[0m\u001b[0;34m.\u001b[0m\u001b[0malias_refcount\u001b[0m\u001b[0;34m[\u001b[0m\u001b[0ma\u001b[0m\u001b[0;34m]\u001b[0m \u001b[0;34m==\u001b[0m \u001b[0;36m0\u001b[0m \u001b[0;32mfor\u001b[0m \u001b[0ma\u001b[0m \u001b[0;32min\u001b[0m \u001b[0mself\u001b[0m\u001b[0;34m.\u001b[0m\u001b[0mquery\u001b[0m\u001b[0;34m.\u001b[0m\u001b[0mtables\u001b[0m\u001b[0;34m)\u001b[0m\u001b[0;34m:\u001b[0m\u001b[0;34m\u001b[0m\u001b[0m\n\u001b[1;32m     38\u001b[0m             \u001b[0mself\u001b[0m\u001b[0;34m.\u001b[0m\u001b[0mquery\u001b[0m\u001b[0;34m.\u001b[0m\u001b[0mget_initial_alias\u001b[0m\u001b[0;34m(\u001b[0m\u001b[0;34m)\u001b[0m\u001b[0;34m\u001b[0m\u001b[0m\n\u001b[0;32m---> 39\u001b[0;31m         \u001b[0mself\u001b[0m\u001b[0;34m.\u001b[0m\u001b[0mselect\u001b[0m\u001b[0;34m,\u001b[0m \u001b[0mself\u001b[0m\u001b[0;34m.\u001b[0m\u001b[0mklass_info\u001b[0m\u001b[0;34m,\u001b[0m \u001b[0mself\u001b[0m\u001b[0;34m.\u001b[0m\u001b[0mannotation_col_map\u001b[0m \u001b[0;34m=\u001b[0m \u001b[0mself\u001b[0m\u001b[0;34m.\u001b[0m\u001b[0mget_select\u001b[0m\u001b[0;34m(\u001b[0m\u001b[0;34m)\u001b[0m\u001b[0;34m\u001b[0m\u001b[0m\n\u001b[0m\u001b[1;32m     40\u001b[0m         \u001b[0mself\u001b[0m\u001b[0;34m.\u001b[0m\u001b[0mcol_count\u001b[0m \u001b[0;34m=\u001b[0m \u001b[0mlen\u001b[0m\u001b[0;34m(\u001b[0m\u001b[0mself\u001b[0m\u001b[0;34m.\u001b[0m\u001b[0mselect\u001b[0m\u001b[0;34m)\u001b[0m\u001b[0;34m\u001b[0m\u001b[0m\n\u001b[1;32m     41\u001b[0m \u001b[0;34m\u001b[0m\u001b[0m\n",
      "\u001b[0;32m/Users/chrisseto/.pyenv/versions/osf/lib/python2.7/site-packages/django/db/models/sql/compiler.pyc\u001b[0m in \u001b[0;36mget_select\u001b[0;34m(self)\u001b[0m\n\u001b[1;32m    226\u001b[0m         \u001b[0mret\u001b[0m \u001b[0;34m=\u001b[0m \u001b[0;34m[\u001b[0m\u001b[0;34m]\u001b[0m\u001b[0;34m\u001b[0m\u001b[0m\n\u001b[1;32m    227\u001b[0m         \u001b[0;32mfor\u001b[0m \u001b[0mcol\u001b[0m\u001b[0;34m,\u001b[0m \u001b[0malias\u001b[0m \u001b[0;32min\u001b[0m \u001b[0mselect\u001b[0m\u001b[0;34m:\u001b[0m\u001b[0;34m\u001b[0m\u001b[0m\n\u001b[0;32m--> 228\u001b[0;31m             \u001b[0mret\u001b[0m\u001b[0;34m.\u001b[0m\u001b[0mappend\u001b[0m\u001b[0;34m(\u001b[0m\u001b[0;34m(\u001b[0m\u001b[0mcol\u001b[0m\u001b[0;34m,\u001b[0m \u001b[0mself\u001b[0m\u001b[0;34m.\u001b[0m\u001b[0mcompile\u001b[0m\u001b[0;34m(\u001b[0m\u001b[0mcol\u001b[0m\u001b[0;34m,\u001b[0m \u001b[0mselect_format\u001b[0m\u001b[0;34m=\u001b[0m\u001b[0mTrue\u001b[0m\u001b[0;34m)\u001b[0m\u001b[0;34m,\u001b[0m \u001b[0malias\u001b[0m\u001b[0;34m)\u001b[0m\u001b[0;34m)\u001b[0m\u001b[0;34m\u001b[0m\u001b[0m\n\u001b[0m\u001b[1;32m    229\u001b[0m         \u001b[0;32mreturn\u001b[0m \u001b[0mret\u001b[0m\u001b[0;34m,\u001b[0m \u001b[0mklass_info\u001b[0m\u001b[0;34m,\u001b[0m \u001b[0mannotations\u001b[0m\u001b[0;34m\u001b[0m\u001b[0m\n\u001b[1;32m    230\u001b[0m \u001b[0;34m\u001b[0m\u001b[0m\n",
      "\u001b[0;32m/Users/chrisseto/.pyenv/versions/osf/lib/python2.7/site-packages/django/db/models/sql/compiler.pyc\u001b[0m in \u001b[0;36mcompile\u001b[0;34m(self, node, select_format)\u001b[0m\n\u001b[1;32m    364\u001b[0m             \u001b[0msql\u001b[0m\u001b[0;34m,\u001b[0m \u001b[0mparams\u001b[0m \u001b[0;34m=\u001b[0m \u001b[0mvendor_impl\u001b[0m\u001b[0;34m(\u001b[0m\u001b[0mself\u001b[0m\u001b[0;34m,\u001b[0m \u001b[0mself\u001b[0m\u001b[0;34m.\u001b[0m\u001b[0mconnection\u001b[0m\u001b[0;34m)\u001b[0m\u001b[0;34m\u001b[0m\u001b[0m\n\u001b[1;32m    365\u001b[0m         \u001b[0;32melse\u001b[0m\u001b[0;34m:\u001b[0m\u001b[0;34m\u001b[0m\u001b[0m\n\u001b[0;32m--> 366\u001b[0;31m             \u001b[0msql\u001b[0m\u001b[0;34m,\u001b[0m \u001b[0mparams\u001b[0m \u001b[0;34m=\u001b[0m \u001b[0mnode\u001b[0m\u001b[0;34m.\u001b[0m\u001b[0mas_sql\u001b[0m\u001b[0;34m(\u001b[0m\u001b[0mself\u001b[0m\u001b[0;34m,\u001b[0m \u001b[0mself\u001b[0m\u001b[0;34m.\u001b[0m\u001b[0mconnection\u001b[0m\u001b[0;34m)\u001b[0m\u001b[0;34m\u001b[0m\u001b[0m\n\u001b[0m\u001b[1;32m    367\u001b[0m         \u001b[0;32mif\u001b[0m \u001b[0mselect_format\u001b[0m \u001b[0;32mand\u001b[0m \u001b[0;32mnot\u001b[0m \u001b[0mself\u001b[0m\u001b[0;34m.\u001b[0m\u001b[0msubquery\u001b[0m\u001b[0;34m:\u001b[0m\u001b[0;34m\u001b[0m\u001b[0m\n\u001b[1;32m    368\u001b[0m             \u001b[0;32mreturn\u001b[0m \u001b[0mnode\u001b[0m\u001b[0;34m.\u001b[0m\u001b[0moutput_field\u001b[0m\u001b[0;34m.\u001b[0m\u001b[0mselect_format\u001b[0m\u001b[0;34m(\u001b[0m\u001b[0mself\u001b[0m\u001b[0;34m,\u001b[0m \u001b[0msql\u001b[0m\u001b[0;34m,\u001b[0m \u001b[0mparams\u001b[0m\u001b[0;34m)\u001b[0m\u001b[0;34m\u001b[0m\u001b[0m\n",
      "\u001b[0;31mAttributeError\u001b[0m: 'str' object has no attribute 'as_sql'"
     ]
    }
   ],
   "source": [
    "q = Query(Contributor)\n",
    "q.set_select('id')\n",
    "q.sql_with_params()"
   ]
  },
  {
   "cell_type": "code",
   "execution_count": 253,
   "metadata": {
    "collapsed": false
   },
   "outputs": [
    {
     "data": {
      "text/plain": [
       "(u'SELECT \"osf_contributor\".\"id\", \"osf_contributor\".\"read\", \"osf_contributor\".\"write\", \"osf_contributor\".\"admin\", \"osf_contributor\".\"visible\", \"osf_contributor\".\"user_id\", \"osf_contributor\".\"node_id\", \"osf_contributor\".\"_order\" FROM \"osf_contributor\" ORDER BY \"osf_contributor\".\"_order\" ASC',\n",
       " ())"
      ]
     },
     "execution_count": 253,
     "metadata": {},
     "output_type": "execute_result"
    }
   ],
   "source": []
  },
  {
   "cell_type": "code",
   "execution_count": 254,
   "metadata": {
    "collapsed": false
   },
   "outputs": [
    {
     "data": {
      "text/plain": [
       "{'_annotation_select_cache': None,\n",
       " '_annotations': OrderedDict(),\n",
       " '_extra': None,\n",
       " '_extra_select_cache': None,\n",
       " 'alias_map': {u'osf_contributor': <django.db.models.sql.datastructures.BaseTable at 0x109f77a90>},\n",
       " 'alias_refcount': {u'osf_contributor': 0},\n",
       " 'annotation_select_mask': None,\n",
       " 'context': {},\n",
       " 'default_cols': True,\n",
       " 'default_ordering': True,\n",
       " 'deferred_loading': (set(), True),\n",
       " 'distinct': False,\n",
       " 'distinct_fields': [],\n",
       " 'external_aliases': set(),\n",
       " 'extra_order_by': (),\n",
       " 'extra_select_mask': None,\n",
       " 'extra_tables': (),\n",
       " 'filter_is_sticky': False,\n",
       " 'group_by': None,\n",
       " 'high_mark': None,\n",
       " 'low_mark': 0,\n",
       " 'max_depth': 5,\n",
       " 'model': osf.models.contributor.Contributor,\n",
       " 'order_by': [],\n",
       " 'select': [],\n",
       " 'select_for_update': False,\n",
       " 'select_for_update_nowait': False,\n",
       " 'select_related': False,\n",
       " 'standard_ordering': True,\n",
       " 'table_map': {u'osf_contributor': [u'osf_contributor']},\n",
       " 'tables': [u'osf_contributor'],\n",
       " 'used_aliases': set(),\n",
       " 'values_select': [],\n",
       " 'where': <WhereNode: (AND: )>,\n",
       " 'where_class': django.db.models.sql.where.WhereNode}"
      ]
     },
     "execution_count": 254,
     "metadata": {},
     "output_type": "execute_result"
    }
   ],
   "source": [
    "q.__dict__"
   ]
  },
  {
   "cell_type": "code",
   "execution_count": null,
   "metadata": {
    "collapsed": true
   },
   "outputs": [],
   "source": []
  }
 ],
 "metadata": {
  "kernelspec": {
   "display_name": "Django Shell-Plus",
   "language": "python",
   "name": "django_extensions"
  },
  "language_info": {
   "codemirror_mode": {
    "name": "ipython",
    "version": 2
   },
   "file_extension": ".py",
   "mimetype": "text/x-python",
   "name": "python",
   "nbconvert_exporter": "python",
   "pygments_lexer": "ipython2",
   "version": "2.7.12"
  }
 },
 "nbformat": 4,
 "nbformat_minor": 2
}
